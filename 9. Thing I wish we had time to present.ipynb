{
 "cells": [
  {
   "cell_type": "markdown",
   "id": "b980c192",
   "metadata": {
    "heading_collapsed": true,
    "slideshow": {
     "slide_type": "slide"
    }
   },
   "source": [
    "# Thing I wish we had time to present\n",
    "\n",
    "[Pierre-Antoine Champin](http://champin.net/)\n",
    "\n",
    "http://github.com/pchampin/rust-w3c-2022\n",
    "\n",
    "<a rel=\"license\" href=\"http://creativecommons.org/licenses/by-nc-sa/2.0/fr/\"><img alt=\"Contrat Creative Commons\" style=\"border-width:0\" src=\"http://i.creativecommons.org/l/by-nc-sa/2.0/fr/88x31.png\" /></a>"
   ]
  },
  {
   "cell_type": "markdown",
   "id": "8650ba52",
   "metadata": {
    "heading_collapsed": true,
    "slideshow": {
     "slide_type": "slide"
    }
   },
   "source": [
    "# Unit tests"
   ]
  },
  {
   "cell_type": "code",
   "execution_count": 2,
   "id": "4439589e",
   "metadata": {
    "hidden": true
   },
   "outputs": [],
   "source": [
    "fn fact(n: usize) -> usize {\n",
    "    if n <= 1 { 1 } else { n*fact(n-1) }\n",
    "}\n",
    "\n",
    "#[cfg(test)]\n",
    "mod test {\n",
    "    #[test]\n",
    "    fn fact0() {\n",
    "        assert_eq!(fact(0), 1)\n",
    "    }\n",
    "\n",
    "    #[test]\n",
    "    fn fact1() {\n",
    "        assert_eq!(fact(1), 1)\n",
    "    }\n",
    "\n",
    "    #[test]\n",
    "    fn fact10() {\n",
    "        assert_eq!(fact(10), 3628800)\n",
    "    }    \n",
    "}\n"
   ]
  },
  {
   "cell_type": "markdown",
   "id": "96c4f56b",
   "metadata": {
    "heading_collapsed": true,
    "slideshow": {
     "slide_type": "slide"
    }
   },
   "source": [
    "# Smart pointers\n",
    "\n",
    "`Box<T>`, `Rc<T>`, `Arc<T>`, `RefCell<T>`, `Mutex<T>`, `RwLock<T>`..."
   ]
  },
  {
   "cell_type": "markdown",
   "id": "b43daf2a",
   "metadata": {
    "slideshow": {
     "slide_type": "slide"
    }
   },
   "source": [
    "# Trait objects and dynamic dispatch"
   ]
  },
  {
   "cell_type": "markdown",
   "id": "a2d6889c",
   "metadata": {
    "slideshow": {
     "slide_type": "subslide"
    }
   },
   "source": [
    "## Interlude\n",
    "\n",
    "In C++\n",
    "\n",
    "```cpp\n",
    "class Animal {\n",
    "  private:\n",
    "      const char* name;\n",
    "  public:\n",
    "      Animal(const char* name) { this->name = name; }\n",
    "      const char* get_name() { return this->name; }\n",
    "      const char* cry() { return \"noise\"; }\n",
    "};    \n",
    "\n",
    "class Dog: public Animal {\n",
    "  public:\n",
    "      Chien(const char* name): Animal(name) {}\n",
    "      const char* cry() { return \"bark\"; }\n",
    "};\n",
    "```"
   ]
  },
  {
   "cell_type": "markdown",
   "id": "7170fdc0",
   "metadata": {
    "slideshow": {
     "slide_type": "subslide"
    }
   },
   "source": [
    "Quizz: what would this print?\n",
    "```cpp\n",
    "void make_speak(Animal *a) {\n",
    "  cout << a->get_name() << \" makes a \" << a->cry() << \".\\n\";\n",
    "}\n",
    "\n",
    "// (...)\n",
    "\n",
    "  make_speak(new Dog(\"Rex\"))\n",
    "```"
   ]
  },
  {
   "cell_type": "raw",
   "id": "e3cb182b",
   "metadata": {
    "slideshow": {
     "slide_type": "fragment"
    }
   },
   "source": [
    "Rex makes a noise."
   ]
  },
  {
   "cell_type": "markdown",
   "id": "d41c38f6",
   "metadata": {
    "slideshow": {
     "slide_type": "fragment"
    }
   },
   "source": [
    "... unless I marked the `cry` method in `Animal` as `abstract`."
   ]
  },
  {
   "cell_type": "markdown",
   "id": "2d41a771",
   "metadata": {
    "slideshow": {
     "slide_type": "subslide"
    }
   },
   "source": [
    "What about in Java, then?"
   ]
  },
  {
   "cell_type": "raw",
   "id": "31bed929",
   "metadata": {
    "slideshow": {
     "slide_type": "fragment"
    }
   },
   "source": [
    "Rex makes a bark."
   ]
  },
  {
   "cell_type": "markdown",
   "id": "c509c59f",
   "metadata": {
    "slideshow": {
     "slide_type": "fragment"
    }
   },
   "source": [
    "... unless I marked the `cry` method in `Animal` as `final`.\n",
    "\n",
    "(in which case I would not be allowed to override it in `Dog`)"
   ]
  },
  {
   "cell_type": "markdown",
   "id": "6c33ee4d",
   "metadata": {
    "slideshow": {
     "slide_type": "subslide"
    }
   },
   "source": [
    "## In Rust"
   ]
  },
  {
   "cell_type": "code",
   "execution_count": 3,
   "id": "2062f431",
   "metadata": {
    "slideshow": {
     "slide_type": ""
    }
   },
   "outputs": [],
   "source": [
    "trait Animal: std::fmt::Debug {\n",
    "    fn cry(&self) -> &str { \"makes a noise\" }\n",
    "}\n",
    "\n",
    "#[derive(Debug)]\n",
    "struct Dog;\n",
    "impl Animal for Dog {\n",
    "    fn cry(&self) -> &str { \"barks\" }\n",
    "}\n",
    "\n",
    "#[derive(Debug)]\n",
    "struct Platypus;\n",
    "impl Animal for Platypus {\n",
    "    // inherits the default implementation of cry()\n",
    "}"
   ]
  },
  {
   "cell_type": "code",
   "execution_count": 4,
   "id": "67dd8e38",
   "metadata": {
    "slideshow": {
     "slide_type": "subslide"
    }
   },
   "outputs": [
    {
     "name": "stdout",
     "output_type": "stream",
     "text": [
      "Platypus makes a noise\n",
      "Platypus makes a noise\n",
      "Dog barks\n",
      "Dog barks\n",
      "Dog barks\n"
     ]
    }
   ],
   "source": [
    "fn all_cry1<T>(zoo: &[T])\n",
    "where T: Animal,\n",
    "{\n",
    "    for a in zoo {\n",
    "        println!(\"{:?} {}\", a, a.cry());\n",
    "    }\n",
    "}\n",
    "\n",
    "all_cry1(&[Platypus, Platypus]);\n",
    "all_cry1(&[Dog, Dog, Dog]);\n",
    "// can not mix Platypuses and Dogs in the same call"
   ]
  },
  {
   "cell_type": "code",
   "execution_count": 5,
   "id": "018a1e96",
   "metadata": {},
   "outputs": [
    {
     "name": "stdout",
     "output_type": "stream",
     "text": [
      "Dog barks\n",
      "Platypus makes a noise\n",
      "Dog barks\n"
     ]
    }
   ],
   "source": [
    "fn all_cry2(zoo: &[&dyn Animal]) {\n",
    "    for a in zoo {\n",
    "        println!(\"{:?} {}\", a, a.cry());\n",
    "    }\n",
    "}\n",
    "let (a1, a2, a3) = (Dog, Platypus, Dog);\n",
    "all_cry2(&[&a1, &a2, &a3]);"
   ]
  },
  {
   "cell_type": "markdown",
   "id": "81e083d9",
   "metadata": {
    "slideshow": {
     "slide_type": "slide"
    }
   },
   "source": [
    "# Iterators"
   ]
  },
  {
   "cell_type": "code",
   "execution_count": 6,
   "id": "3e9658b7",
   "metadata": {},
   "outputs": [
    {
     "data": {
      "text/plain": [
       "[2, 1, 3, 2, 1, 3]"
      ]
     },
     "execution_count": 6,
     "metadata": {},
     "output_type": "execute_result"
    }
   ],
   "source": [
    "let a = [1, 2, 3];\n",
    "{\n",
    "    let v: Vec<_> = a\n",
    "            .iter()\n",
    "            .rev()\n",
    "            .cycle()\n",
    "            .skip(1)\n",
    "            .take(6)\n",
    "            .collect();\n",
    "    v\n",
    "}\n"
   ]
  },
  {
   "cell_type": "markdown",
   "id": "09fe109a",
   "metadata": {
    "slideshow": {
     "slide_type": "slide"
    }
   },
   "source": [
    "# Closures"
   ]
  },
  {
   "cell_type": "code",
   "execution_count": 7,
   "id": "4454bfdd",
   "metadata": {},
   "outputs": [
    {
     "data": {
      "text/plain": [
       "[2, 4, 2, 6, 2, 8, 2, 10]"
      ]
     },
     "execution_count": 7,
     "metadata": {},
     "output_type": "execute_result"
    }
   ],
   "source": [
    "let a = [1, 2, 1, 3, 1, 4, 1, 5];\n",
    "{\n",
    "    let v: Vec<_> = a\n",
    "        .iter()\n",
    "        .map(|x| 2*x)\n",
    "        //.take_while(|x| *x<7)\n",
    "        //.filter(|x| *x>2)\n",
    "        .collect();\n",
    "    v\n",
    "}"
   ]
  },
  {
   "cell_type": "markdown",
   "id": "286f8e83",
   "metadata": {
    "slideshow": {
     "slide_type": "slide"
    }
   },
   "source": [
    "# Multithreading"
   ]
  },
  {
   "cell_type": "code",
   "execution_count": 8,
   "id": "3a94d1fe",
   "metadata": {},
   "outputs": [
    {
     "name": "stdout",
     "output_type": "stream",
     "text": [
      "A 2\n",
      "A 4\n",
      "B 2\n",
      "A 6\n",
      "B 4\n",
      "B 6\n"
     ]
    },
    {
     "data": {
      "text/plain": [
       "()"
      ]
     },
     "execution_count": 8,
     "metadata": {},
     "output_type": "execute_result"
    }
   ],
   "source": [
    "use std::thread;\n",
    "use std::time::Duration;\n",
    "\n",
    "static VALUES: [i32; 3] = [2, 4, 6];\n",
    "\n",
    "thread::spawn(|| {\n",
    "    for v in &VALUES {\n",
    "        thread::sleep(Duration::from_millis(1000));\n",
    "        println!(\"A {}\", v);\n",
    "    }\n",
    "});\n",
    "\n",
    "thread::sleep(Duration::from_millis(1500));\n",
    "for v in &VALUES {\n",
    "    thread::sleep(Duration::from_millis(1000));\n",
    "    println!(\"B {}\", v);\n",
    "}\n"
   ]
  },
  {
   "cell_type": "markdown",
   "id": "3b83119d",
   "metadata": {
    "slideshow": {
     "slide_type": "subslide"
    }
   },
   "source": [
    "## Multithreading with `rayon`"
   ]
  },
  {
   "cell_type": "code",
   "execution_count": 9,
   "id": "7b57dcfa",
   "metadata": {},
   "outputs": [
    {
     "name": "stdout",
     "output_type": "stream",
     "text": [
      "0 1 2 3 4 5 6 7 8 9 -> [1, 2, 3, 4, 5, 6, 7, 8, 9, 10]\n"
     ]
    }
   ],
   "source": [
    "// mono-thread task\n",
    "\n",
    "let mut v: Vec<i32> = (0..10).collect();\n",
    "v.iter_mut().for_each(|i| {\n",
    "    print!(\"{} \", i);\n",
    "    *i += 1;\n",
    "});\n",
    "println!(\"-> {:?}\", v);"
   ]
  },
  {
   "cell_type": "code",
   "execution_count": 22,
   "id": "4b185c73",
   "metadata": {},
   "outputs": [
    {
     "name": "stdout",
     "output_type": "stream",
     "text": [
      "0 1 7 6 8 9 5 2 3 4 -> [10, 11, 12, 13, 14, 15, 16, 17, 18, 19]\n"
     ]
    }
   ],
   "source": [
    ":dep rayon = \"*\"\n",
    "use rayon::prelude::*;\n",
    "\n",
    "// same task, parallelized with rayon\n",
    "let mut v: Vec<i32> = (0..10).collect();\n",
    "v.par_iter_mut().for_each(|i| {\n",
    "    print!(\"{} \", i);\n",
    "    *i += 10;\n",
    "});\n",
    "println!(\"-> {:?}\", v);"
   ]
  },
  {
   "cell_type": "markdown",
   "id": "eb44b8f9",
   "metadata": {
    "slideshow": {
     "slide_type": "slide"
    }
   },
   "source": [
    "# `async` concurrency"
   ]
  },
  {
   "cell_type": "markdown",
   "id": "e669310b",
   "metadata": {
    "slideshow": {
     "slide_type": "slide"
    }
   },
   "source": [
    "# The `serde` crate (Serializer / Deserializer)"
   ]
  },
  {
   "cell_type": "code",
   "execution_count": 11,
   "id": "4611c706",
   "metadata": {},
   "outputs": [],
   "source": [
    ":dep serde = {version=\"1.0\", features=[\"derive\"]}\n",
    ":dep serde_cbor = \"0.11.2\"\n",
    ":dep serde_json = \"1.0\"\n",
    ":dep serde_yaml = \"0.8\"\n",
    ":dep serde_qs = \"0.9\""
   ]
  },
  {
   "cell_type": "code",
   "execution_count": 12,
   "id": "be6d460e",
   "metadata": {},
   "outputs": [],
   "source": [
    "use serde::{Deserialize, Serialize};\n",
    "use std::error::Error;\n",
    "use std::fs::File;\n",
    "\n",
    "// Types annotated with `Serialize` can be stored as CBOR.\n",
    "// To be able to load them again add `Deserialize`.\n",
    "#[derive(Debug, Serialize, Deserialize)]\n",
    "struct Mascot {\n",
    "    name: String,\n",
    "    species: String,\n",
    "    year_of_birth: Option<i64>,\n",
    "}\n",
    "\n",
    "let ferris = Mascot {\n",
    "    name: \"Ferris\".to_owned(),\n",
    "    species: \"crab\".to_owned(),\n",
    "    year_of_birth: Some(2015),\n",
    "};"
   ]
  },
  {
   "cell_type": "markdown",
   "id": "60023b31",
   "metadata": {
    "heading_collapsed": true,
    "slideshow": {
     "slide_type": "subslide"
    }
   },
   "source": [
    "## JSON"
   ]
  },
  {
   "cell_type": "code",
   "execution_count": 13,
   "id": "76a8557f",
   "metadata": {
    "hidden": true
   },
   "outputs": [
    {
     "name": "stdout",
     "output_type": "stream",
     "text": [
      "{\n",
      "  \"name\": \"Ferris\",\n",
      "  \"species\": \"crab\",\n"
     ]
    }
   ],
   "source": [
    "println!(\"{}\", serde_json::to_string_pretty(&ferris)?);"
   ]
  },
  {
   "cell_type": "code",
   "execution_count": 14,
   "id": "b44b11aa",
   "metadata": {
    "hidden": true
   },
   "outputs": [
    {
     "name": "stdout",
     "output_type": "stream",
     "text": [
      "  \"year_of_birth\": 2015\n",
      "}\n"
     ]
    },
    {
     "data": {
      "text/plain": [
       "Mascot { name: \"Tux\", species: \"penguin\", year_of_birth: Some(1996) }"
      ]
     },
     "execution_count": 14,
     "metadata": {},
     "output_type": "execute_result"
    }
   ],
   "source": [
    "let m: Mascot = serde_json::from_str(r#\"\n",
    "{\n",
    "  \"year_of_birth\": 1996,\n",
    "  \"name\": \"Tux\",\n",
    "  \"species\": \"penguin\"\n",
    "}\n",
    "\"#)?;\n",
    "m"
   ]
  },
  {
   "cell_type": "markdown",
   "id": "7a4df84d",
   "metadata": {
    "heading_collapsed": true,
    "slideshow": {
     "slide_type": "subslide"
    }
   },
   "source": [
    "## URL query string"
   ]
  },
  {
   "cell_type": "code",
   "execution_count": 15,
   "id": "d482db46",
   "metadata": {
    "hidden": true
   },
   "outputs": [
    {
     "data": {
      "text/plain": [
       "\"name=Ferris&species=crab&year_of_birth=2015\""
      ]
     },
     "execution_count": 15,
     "metadata": {},
     "output_type": "execute_result"
    }
   ],
   "source": [
    "serde_qs::to_string(&ferris)?"
   ]
  },
  {
   "cell_type": "code",
   "execution_count": 16,
   "id": "a34edd4f",
   "metadata": {
    "hidden": true
   },
   "outputs": [
    {
     "data": {
      "text/plain": [
       "Mascot { name: \"Tux\", species: \"nice penguin\", year_of_birth: None }"
      ]
     },
     "execution_count": 16,
     "metadata": {},
     "output_type": "execute_result"
    }
   ],
   "source": [
    "let m: Mascot = serde_qs::from_str(\"name=Tux&species=nice+penguin\")?;\n",
    "m"
   ]
  },
  {
   "cell_type": "markdown",
   "id": "e250ced4",
   "metadata": {
    "heading_collapsed": true,
    "slideshow": {
     "slide_type": "subslide"
    }
   },
   "source": [
    "## Yaml"
   ]
  },
  {
   "cell_type": "code",
   "execution_count": 17,
   "id": "8b246d3d",
   "metadata": {
    "hidden": true
   },
   "outputs": [
    {
     "name": "stdout",
     "output_type": "stream",
     "text": [
      "---\n",
      "name: Ferris\n",
      "species: crab\n",
      "year_of_birth: 2015\n",
      "\n"
     ]
    }
   ],
   "source": [
    "println!(\"{}\", serde_yaml::to_string(&ferris)?);"
   ]
  },
  {
   "cell_type": "markdown",
   "id": "39c4b8d8",
   "metadata": {
    "slideshow": {
     "slide_type": "subslide"
    }
   },
   "source": [
    "## CBOR"
   ]
  },
  {
   "cell_type": "code",
   "execution_count": 18,
   "id": "764d684d",
   "metadata": {},
   "outputs": [
    {
     "data": {
      "text/plain": [
       "[163, 100, 110, 97, 109, 101, 102, 70, 101, 114, 114, 105, 115, 103, 115, 112, 101, 99, 105, 101, 115, 100, 99, 114, 97, 98, 109, 121, 101, 97, 114, 95, 111, 102, 95, 98, 105, 114, 116, 104, 25, 7, 223]"
      ]
     },
     "execution_count": 18,
     "metadata": {},
     "output_type": "execute_result"
    }
   ],
   "source": [
    "let mut v: Vec<u8> = serde_cbor::to_vec(&ferris)?;\n",
    "v"
   ]
  },
  {
   "cell_type": "code",
   "execution_count": 19,
   "id": "7b04dc59",
   "metadata": {},
   "outputs": [
    {
     "name": "stdout",
     "output_type": "stream",
     "text": [
      "Inspect CBOR at https://cbor.me/?bytes=a3646e616d6566466572726973677370656369657364637261626d796561725f6f665f62697274681907df\n"
     ]
    }
   ],
   "source": [
    "let hex: String = v.iter().map(|b| format!(\"{:02x}\", b)).collect();\n",
    "println!(\"Inspect CBOR at https://cbor.me/?bytes={}\", &hex);"
   ]
  },
  {
   "cell_type": "code",
   "execution_count": 20,
   "id": "d12d826c",
   "metadata": {},
   "outputs": [
    {
     "data": {
      "text/plain": [
       "Mascot { name: \"Ferris\", species: \"crab\", year_of_birth: Some(2015) }"
      ]
     },
     "execution_count": 20,
     "metadata": {},
     "output_type": "execute_result"
    }
   ],
   "source": [
    "let m: Mascot = serde_cbor::from_slice(&v)?;\n",
    "m"
   ]
  },
  {
   "cell_type": "code",
   "execution_count": 21,
   "id": "7b005864",
   "metadata": {},
   "outputs": [
    {
     "data": {
      "text/plain": [
       "Mascot { name: \"ferris\", species: \"crab\", year_of_birth: None }"
      ]
     },
     "execution_count": 21,
     "metadata": {},
     "output_type": "execute_result"
    }
   ],
   "source": [
    "let mut v2 = v.clone();\n",
    "v2[7] += 32;        // lowercase first letter of name\n",
    "v2[0] = 0b10100010; // change map length to 2\n",
    "v2.truncate(26);    // truncate third item\n",
    "let m2: Mascot = serde_cbor::from_slice(&v2)?;\n",
    "m2"
   ]
  },
  {
   "cell_type": "markdown",
   "id": "6fea78e4",
   "metadata": {
    "heading_collapsed": true,
    "slideshow": {
     "slide_type": "slide"
    }
   },
   "source": [
    "# `unsafe` code"
   ]
  },
  {
   "cell_type": "markdown",
   "id": "f50b6612",
   "metadata": {
    "heading_collapsed": true,
    "slideshow": {
     "slide_type": "slide"
    }
   },
   "source": [
    "# Web Assembly"
   ]
  },
  {
   "cell_type": "markdown",
   "id": "ec7456b3",
   "metadata": {
    "heading_collapsed": true,
    "slideshow": {
     "slide_type": "slide"
    }
   },
   "source": [
    "# Sockets"
   ]
  }
 ],
 "metadata": {
  "celltoolbar": "Slideshow",
  "kernelspec": {
   "display_name": "Rust",
   "language": "rust",
   "name": "rust"
  },
  "language_info": {
   "codemirror_mode": "rust",
   "file_extension": ".rs",
   "mimetype": "text/rust",
   "name": "Rust",
   "pygment_lexer": "rust",
   "version": ""
  }
 },
 "nbformat": 4,
 "nbformat_minor": 5
}
