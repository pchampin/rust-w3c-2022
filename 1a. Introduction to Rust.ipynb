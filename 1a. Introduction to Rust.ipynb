{
 "cells": [
  {
   "cell_type": "markdown",
   "metadata": {
    "slideshow": {
     "slide_type": "slide"
    }
   },
   "source": [
    "\n",
    "# Introduction to Rust\n",
    "\n",
    "[Pierre-Antoine Champin](http://champin.net/)\n",
    "\n",
    "http://github.com/pchampin/rust-w3c-2022\n",
    "\n",
    "<a rel=\"license\" href=\"http://creativecommons.org/licenses/by-nc-sa/2.0/fr/\"><img alt=\"Contrat Creative Commons\" style=\"border-width:0\" src=\"http://i.creativecommons.org/l/by-nc-sa/2.0/fr/88x31.png\" /></a>"
   ]
  },
  {
   "cell_type": "code",
   "execution_count": 2,
   "metadata": {},
   "outputs": [],
   "source": [
    "fn main() {  \n",
    "    println!(\"hello world\");\n",
    "}"
   ]
  },
  {
   "cell_type": "markdown",
   "metadata": {
    "slideshow": {
     "slide_type": "slide"
    }
   },
   "source": [
    "## Why Rust"
   ]
  },
  {
   "cell_type": "markdown",
   "metadata": {
    "slideshow": {
     "slide_type": "subslide"
    }
   },
   "source": [
    "### History\n",
    "\n",
    "\n",
    "* 2006: Graydon Hoare starts working on Rust\n",
    "* 2009: Mozilla endorses the project\n",
    "* 2015: Version 1.0 of the compiler released\n",
    "* 2021: Creation of the Rust Foundation"
   ]
  },
  {
   "cell_type": "markdown",
   "metadata": {
    "slideshow": {
     "slide_type": "subslide"
    }
   },
   "source": [
    "### In a nutshell\n",
    "\n",
    "Rust emphasizes\n",
    "\n",
    "* Performance\n",
    "* Reliability\n",
    "* Productivity"
   ]
  },
  {
   "cell_type": "markdown",
   "metadata": {
    "slideshow": {
     "slide_type": "fragment"
    }
   },
   "source": [
    "Also memory- and thread-safety"
   ]
  },
  {
   "cell_type": "markdown",
   "metadata": {
    "slideshow": {
     "slide_type": "subslide"
    }
   },
   "source": [
    "### Zero-cost abstraction\n",
    "\n",
    "* You only pay for what you use\n",
    "* \"A high level system programming language\"\n",
    "* Abstractions are optimized away whenever possible"
   ]
  },
  {
   "cell_type": "markdown",
   "metadata": {
    "slideshow": {
     "slide_type": "subslide"
    }
   },
   "source": [
    "### Welcoming community\n",
    "\n",
    "* [Stackoverflow](https://stackoverflow.com/questions/tagged/rust)\n",
    "\n",
    "  - \"most loved language\" since 2016\n",
    "  \n",
    "* https://users.rust-lang.org/"
   ]
  },
  {
   "cell_type": "markdown",
   "metadata": {
    "slideshow": {
     "slide_type": "subslide"
    }
   },
   "source": [
    "### Why \"Rust\"?\n",
    "\n",
    "* as in [rust fungi][https://en.wikipedia.org/wiki/Rust_(fungus)] because they are robust, distributed and parallel\n",
    "* a substring of \"robust\"\n",
    "* it aims to reuse old proven concepts from programming language research"
   ]
  },
  {
   "cell_type": "markdown",
   "metadata": {
    "slideshow": {
     "slide_type": "slide"
    }
   },
   "source": [
    "## Useful links\n",
    "\n",
    "* Homepage: https://rust-lang.org/\n",
    "* Documentation: https://doc.rust-lang.org/std/\n",
    "* Playground: https://play.rust-lang.org/"
   ]
  },
  {
   "cell_type": "markdown",
   "metadata": {
    "slideshow": {
     "slide_type": "fragment"
    }
   },
   "source": [
    "* Libraries: https://crates.io/\n",
    "* Documentations: https://docs.rs/\n",
    "* Are we web yet?: https://www.arewewebyet.org/"
   ]
  },
  {
   "cell_type": "markdown",
   "metadata": {
    "slideshow": {
     "slide_type": "fragment"
    }
   },
   "source": [
    "* Compiler explorer: https://rust.godbolt.org/"
   ]
  },
  {
   "cell_type": "markdown",
   "metadata": {
    "slideshow": {
     "slide_type": "slide"
    }
   },
   "source": [
    "## All you need is `cargo`\n",
    "\n",
    "`cargo` is the swiss-army knife of Rust development.\n",
    "\n",
    "It is used (among other things) to :\n",
    "\n",
    "* create a new project (`cargo new <dirname>`)\n",
    "* compile a project (`cargo build`)\n",
    "* run an executable (`cargo run`) – compiling it beforehand if needed\n",
    "* run unit tests (`cargo test`)\n",
    "* generate documentation (`cargo doc`)"
   ]
  },
  {
   "cell_type": "markdown",
   "metadata": {
    "slideshow": {
     "slide_type": "subslide"
    }
   },
   "source": [
    "### Anatomy of a cargo project\n",
    "\n",
    "```\n",
    "myproject\n",
    " \\_ .git\n",
    " \\_ .gitignore\n",
    " \\_ Cargo.toml\n",
    " \\_ src\n",
    "     \\_ main.rs\n",
    "```"
   ]
  },
  {
   "cell_type": "markdown",
   "metadata": {
    "slideshow": {
     "slide_type": "fragment"
    }
   },
   "source": [
    "```\n",
    "     \\_ ...\n",
    " \\_ tests\n",
    "     \\_ ...\n",
    " \\_ examples\n",
    "     \\_ ...\n",
    " \\_ target\n",
    "     \\_ ...\n",
    "```"
   ]
  },
  {
   "cell_type": "markdown",
   "metadata": {
    "slideshow": {
     "slide_type": "subslide"
    }
   },
   "source": [
    "The initial `Cargo.toml` file looks like that:\n",
    "\n",
    "```toml\n",
    "[package]\n",
    "name = \"myproject\"\n",
    "version = \"0.1.0\"\n",
    "edition = \"2021\"\n",
    "\n",
    "# See more keys and their definitions at https://doc.rust-lang.org/cargo/reference/manifest.html\n",
    "\n",
    "[dependencies]\n",
    "```"
   ]
  },
  {
   "cell_type": "markdown",
   "metadata": {
    "slideshow": {
     "slide_type": "subslide"
    }
   },
   "source": [
    "### Dependency manager\n",
    "\n",
    "By default, `cargo` retrieves all dependencies from `https://crates.io/`,\n",
    "\n",
    "but other options are possible\n",
    "\n",
    "- local directory,\n",
    "- local or remote git repository,\n",
    "- alternative registry."
   ]
  },
  {
   "cell_type": "markdown",
   "metadata": {
    "slideshow": {
     "slide_type": "slide"
    }
   },
   "source": [
    "## Syntax"
   ]
  },
  {
   "cell_type": "markdown",
   "metadata": {
    "slideshow": {
     "slide_type": "subslide"
    }
   },
   "source": [
    "### Running example: the factorial function"
   ]
  },
  {
   "cell_type": "code",
   "execution_count": 3,
   "metadata": {},
   "outputs": [],
   "source": [
    "fn fact(n: u64) -> u64 {\n",
    "    if n == 0 {\n",
    "        return 1;\n",
    "    } else {\n",
    "        return n*fact(n-1);\n",
    "    }\n",
    "}"
   ]
  },
  {
   "cell_type": "code",
   "execution_count": 4,
   "metadata": {
    "slideshow": {
     "slide_type": "-"
    }
   },
   "outputs": [
    {
     "data": {
      "text/plain": [
       "2432902008176640000"
      ]
     },
     "execution_count": 4,
     "metadata": {},
     "output_type": "execute_result"
    }
   ],
   "source": [
    "fact(20)"
   ]
  },
  {
   "cell_type": "markdown",
   "metadata": {
    "slideshow": {
     "slide_type": "fragment"
    }
   },
   "source": [
    "* `fn` introduces a function\n",
    "* `n: u64` is a function parameter, followed by its type (unsigned integer on 64 bits)\n",
    "* `-> u64` indicates the return type (optional if the function returns nothing)\n",
    "* no parenthesis around the `if` condition"
   ]
  },
  {
   "cell_type": "markdown",
   "metadata": {
    "slideshow": {
     "slide_type": "subslide"
    }
   },
   "source": [
    "### Iterative version"
   ]
  },
  {
   "cell_type": "code",
   "execution_count": 5,
   "metadata": {},
   "outputs": [],
   "source": [
    "fn fact(n: u64) -> u64 {\n",
    "    let mut f: u64 = 1;\n",
    "    let mut i: u64 = 2;\n",
    "    while i <= n {\n",
    "        f *= i;\n",
    "        i += 1;\n",
    "    }\n",
    "    return f;\n",
    "}"
   ]
  },
  {
   "cell_type": "code",
   "execution_count": 6,
   "metadata": {
    "slideshow": {
     "slide_type": "skip"
    }
   },
   "outputs": [],
   "source": [
    "assert_eq!(fact(7), 5040); // test"
   ]
  },
  {
   "cell_type": "markdown",
   "metadata": {
    "slideshow": {
     "slide_type": "fragment"
    }
   },
   "source": [
    "* `let` introduces a local variable\n",
    "* `mut` indicates that the variable is mutable (i.e. its value may change during its lifetime)\n",
    "* no parenthesis around the `while` condition"
   ]
  },
  {
   "cell_type": "markdown",
   "metadata": {
    "slideshow": {
     "slide_type": "subslide"
    }
   },
   "source": [
    "### More idiomatic iterative version 🦀"
   ]
  },
  {
   "cell_type": "code",
   "execution_count": 7,
   "metadata": {},
   "outputs": [],
   "source": [
    "fn fact(n: u64) -> u64 {\n",
    "    let mut f = 1;\n",
    "    let mut i = 2;\n",
    "    while i <= n {\n",
    "        f *= i;\n",
    "        i += 1;\n",
    "    }\n",
    "    f\n",
    "}"
   ]
  },
  {
   "cell_type": "code",
   "execution_count": 8,
   "metadata": {
    "slideshow": {
     "slide_type": "skip"
    }
   },
   "outputs": [],
   "source": [
    "assert_eq!(fact(7), 5040); // test"
   ]
  },
  {
   "cell_type": "markdown",
   "metadata": {
    "slideshow": {
     "slide_type": "fragment"
    }
   },
   "source": [
    "* 🦀 **type inference**: the type of local variables is optional whenever the compiler is able to guess it from the context (which is often)\n",
    "* `mut` still needs to be specified (to avoid errors)\n",
    "* 🦀 any code block (between curly braces) is an **expression** evaluating to the last expression of the bloc (*without* a trailing semicolon)\n",
    "* a function reaching the end of its block returns the value of the block"
   ]
  },
  {
   "cell_type": "code",
   "execution_count": 9,
   "metadata": {
    "slideshow": {
     "slide_type": "subslide"
    }
   },
   "outputs": [],
   "source": [
    "// another example of using a block as an expression\n",
    "let x = 18;\n",
    "let y = 12;\n",
    "let gcd = {\n",
    "    // Euclid's algorithm\n",
    "    let mut a = x;\n",
    "    let mut b = y;\n",
    "    while b > 0 {\n",
    "        let tmp = a;\n",
    "        a = b;\n",
    "        b = tmp % b;\n",
    "    }\n",
    "    a\n",
    "};"
   ]
  },
  {
   "cell_type": "code",
   "execution_count": 10,
   "metadata": {},
   "outputs": [
    {
     "data": {
      "text/plain": [
       "6"
      ]
     },
     "execution_count": 10,
     "metadata": {},
     "output_type": "execute_result"
    }
   ],
   "source": [
    "gcd"
   ]
  },
  {
   "cell_type": "markdown",
   "metadata": {
    "slideshow": {
     "slide_type": "subslide"
    }
   },
   "source": [
    "### More idiomatic recursive version 🦀"
   ]
  },
  {
   "cell_type": "code",
   "execution_count": 11,
   "metadata": {},
   "outputs": [],
   "source": [
    "fn fact(n: u64) -> u64 {\n",
    "    if n == 0 {\n",
    "        1\n",
    "    } else {\n",
    "        n*fact(n-1)\n",
    "    }\n",
    "}"
   ]
  },
  {
   "cell_type": "code",
   "execution_count": 12,
   "metadata": {
    "slideshow": {
     "slide_type": "skip"
    }
   },
   "outputs": [],
   "source": [
    "assert_eq!(fact(7), 5040); // test"
   ]
  },
  {
   "cell_type": "markdown",
   "metadata": {
    "slideshow": {
     "slide_type": "fragment"
    }
   },
   "source": [
    "* an `if` clause is an expression whose value is either that of the \"then\" block or of the `else` block\n",
    "* the return value of the `fact` function is that of the `if` block"
   ]
  },
  {
   "cell_type": "code",
   "execution_count": 13,
   "metadata": {
    "slideshow": {
     "slide_type": "subslide"
    }
   },
   "outputs": [],
   "source": [
    "// another example of using `if` as an expression\n",
    "let x = -21;\n",
    "\n",
    "let a = if x>=0 {\n",
    "    x\n",
    "} else {\n",
    "    -2*x\n",
    "};"
   ]
  },
  {
   "cell_type": "code",
   "execution_count": 14,
   "metadata": {},
   "outputs": [
    {
     "data": {
      "text/plain": [
       "42"
      ]
     },
     "execution_count": 14,
     "metadata": {},
     "output_type": "execute_result"
    }
   ],
   "source": [
    "a"
   ]
  },
  {
   "cell_type": "markdown",
   "metadata": {
    "slideshow": {
     "slide_type": "subslide"
    }
   },
   "source": [
    "### `for` loop"
   ]
  },
  {
   "cell_type": "code",
   "execution_count": 15,
   "metadata": {},
   "outputs": [],
   "source": [
    "fn fact(n: u64) -> u64 {\n",
    "    let mut f = 1;\n",
    "    for i in 2..=n {\n",
    "        f *= i;\n",
    "    }\n",
    "    f\n",
    "}"
   ]
  },
  {
   "cell_type": "code",
   "execution_count": 16,
   "metadata": {
    "slideshow": {
     "slide_type": "skip"
    }
   },
   "outputs": [],
   "source": [
    "assert_eq!(fact(7), 5040); // test"
   ]
  },
  {
   "cell_type": "markdown",
   "metadata": {
    "slideshow": {
     "slide_type": "fragment"
    }
   },
   "source": [
    "* the `for` loop expects an **iterator** and loops over all its items\n",
    "* `i..=j` iterates over all values in the interval $[i,j]$\n",
    "* `i..j` iterates over all values in the interval  $[i,j[$"
   ]
  },
  {
   "cell_type": "markdown",
   "metadata": {
    "slideshow": {
     "slide_type": "subslide"
    }
   },
   "source": [
    "### `match` clause"
   ]
  },
  {
   "cell_type": "code",
   "execution_count": 17,
   "metadata": {},
   "outputs": [],
   "source": [
    "fn fact(n: u64) -> u64 {\n",
    "    match n {\n",
    "        0 | 1 => 1,\n",
    "        2..=20 => n*fact(n-1),\n",
    "        _ => panic!(\"too big\"),\n",
    "    }\n",
    "}"
   ]
  },
  {
   "cell_type": "code",
   "execution_count": 18,
   "metadata": {},
   "outputs": [],
   "source": [
    "assert_eq!(fact(7), 5040); // test"
   ]
  },
  {
   "cell_type": "markdown",
   "metadata": {
    "slideshow": {
     "slide_type": "fragment"
    }
   },
   "source": [
    "* The `match` clause evaluates the first leg satisfied by the value.\n",
    "* the confition `_` is satisfied by any value.\n",
    "\n",
    "Important :\n",
    "* All branches musy be expressions of the same type.\n",
    "* The `match` clause must be **exhaustive** (any possible value must be covered by a leg)"
   ]
  },
  {
   "cell_type": "markdown",
   "metadata": {
    "slideshow": {
     "slide_type": "subslide"
    }
   },
   "source": [
    "* The legs of a `match` clause can be code blocks (since they are expressions).\n",
    "* The legs of a `match` clause can evaluate to nothing."
   ]
  },
  {
   "cell_type": "code",
   "execution_count": 19,
   "metadata": {},
   "outputs": [],
   "source": [
    "fn how_much(n: usize) {\n",
    "    match n {\n",
    "        0..=9 => {\n",
    "            println!(\"a few\");\n",
    "        }\n",
    "        10..=99 => {\n",
    "            println!(\"a lot\");\n",
    "        }\n",
    "        _ => {\n",
    "            println!(\"a huge lot\");\n",
    "        }\n",
    "        \n",
    "    }\n",
    "}"
   ]
  },
  {
   "cell_type": "markdown",
   "metadata": {},
   "source": [
    "NB: the `match` clause can do much more than this.\n",
    "We will come to it later."
   ]
  },
  {
   "cell_type": "markdown",
   "metadata": {
    "slideshow": {
     "slide_type": "slide"
    }
   },
   "source": [
    "## Types"
   ]
  },
  {
   "cell_type": "markdown",
   "metadata": {
    "slideshow": {
     "slide_type": "subslide"
    }
   },
   "source": [
    "### Primitive types\n",
    "\n",
    "* Integers (`i8`, `i16`, `i32`, `i64`, `i128`, `isize`) — e.g. `42`, `-1`\n",
    "    \n",
    "* Unsigned integers (`u8`, `u16`, `u32`, `u64`, `u128`, `usize`) — e.g. `42`, `101`\n",
    "    \n",
    "* Floating point numbers (`f32`, `f64`) — e.g. `1.0`, `3.14`, `6.626e-34`\n",
    "* Booleans (`bool`) — e.g. `true`, `false`\n",
    "* Characters (`char`) — e.g. `'&'`, `'ê'`, `'π'`, `'☃'` (unicode → 32 bits)"
   ]
  },
  {
   "cell_type": "markdown",
   "metadata": {
    "slideshow": {
     "slide_type": "subslide"
    }
   },
   "source": [
    "### Tuples"
   ]
  },
  {
   "cell_type": "code",
   "execution_count": 20,
   "metadata": {},
   "outputs": [],
   "source": [
    "/// Returns quotient and remainder\n",
    "/// of the euclidian dividian of a by n\n",
    "fn divmod(a: i64, b: i64) -> (i64, i64) {\n",
    "    (a/b, a%b)\n",
    "}\n",
    "\n",
    "let (q, r) = divmod(101, 42);"
   ]
  },
  {
   "cell_type": "markdown",
   "metadata": {
    "slideshow": {
     "slide_type": "fragment"
    }
   },
   "source": [
    "* Tuples can be heterogeneous (e.g. `(i32, f64, i32)`).\n",
    "* Tuples can have any size\n",
    "* Every kind of tuple is a distinct type\n",
    "* The type \"0-size tuple\" `()` is called *unit* or *nil*;\n",
    "  it is the implicit return type of functions returning nothing"
   ]
  },
  {
   "cell_type": "markdown",
   "metadata": {
    "slideshow": {
     "slide_type": "subslide"
    }
   },
   "source": [
    "#### Accessing the fields of a tuple"
   ]
  },
  {
   "cell_type": "code",
   "execution_count": 21,
   "metadata": {},
   "outputs": [
    {
     "name": "stdout",
     "output_type": "stream",
     "text": [
      "Quotion:   2\n",
      "Remainder: 17\n"
     ]
    }
   ],
   "source": [
    "let t = divmod(101, 42);\n",
    "println!(\"Quotion:   {}\", t.0);\n",
    "println!(\"Remainder: {}\", t.1);"
   ]
  },
  {
   "cell_type": "markdown",
   "metadata": {
    "slideshow": {
     "slide_type": "subslide"
    }
   },
   "source": [
    "### Slices (\"dynamic arrays\")"
   ]
  },
  {
   "cell_type": "markdown",
   "metadata": {
    "slideshow": {
     "slide_type": "-"
    }
   },
   "source": [
    "* For any type `T`, the type \"slice of `T`s\" is `[T]`\n",
    "* The size of a slice `a` is accessible with `a.len()`\n",
    "* Elements of a slice `a` are accessed with `a[i]`\n",
    "  - where `i` is of type `usize`, and the first item is at index 0\n",
    "  - accessing an element beyond the size will cause an error (≠ C, C++)\n",
    "* A subslice can be ontained with `a[i..j]`\n"
   ]
  },
  {
   "cell_type": "code",
   "execution_count": 22,
   "metadata": {
    "slideshow": {
     "slide_type": "subslide"
    }
   },
   "outputs": [],
   "source": [
    "/// Return the index of the smallest element\n",
    "fn imin(a: &[i64]) -> usize {\n",
    "    let mut im = 0;\n",
    "    for i in 1..a.len() {\n",
    "        if a[i] < a[im] {\n",
    "            im = i;\n",
    "        }\n",
    "    }\n",
    "    im\n",
    "}"
   ]
  },
  {
   "cell_type": "code",
   "execution_count": 23,
   "metadata": {},
   "outputs": [
    {
     "data": {
      "text/plain": [
       "2"
      ]
     },
     "execution_count": 23,
     "metadata": {},
     "output_type": "execute_result"
    }
   ],
   "source": [
    "imin(&[11, 5, -8, 9])"
   ]
  },
  {
   "cell_type": "markdown",
   "metadata": {
    "slideshow": {
     "slide_type": "subslide"
    }
   },
   "source": [
    "### No implicit conversion"
   ]
  },
  {
   "cell_type": "code",
   "execution_count": 24,
   "metadata": {},
   "outputs": [
    {
     "ename": "Error",
     "evalue": "mismatched types",
     "output_type": "error",
     "traceback": [
      "let y: f64 = x;",
      "\u001b[91m             ^\u001b[0m \u001b[94mexpected `f64`, found `f32`\u001b[0m",
      "let y: f64 = x;",
      "\u001b[91m       ^^^\u001b[0m \u001b[94mexpected due to this\u001b[0m",
      "mismatched types",
      "\u001b[1mhelp\u001b[0m: you can convert an `f32` to an `f64`\n\n.into()"
     ]
    }
   ],
   "source": [
    "// this code does not compile\n",
    "let x: f32 = 1.5;\n",
    "let y: f64 = x;\n",
    "y"
   ]
  },
  {
   "cell_type": "code",
   "execution_count": 25,
   "metadata": {
    "slideshow": {
     "slide_type": "fragment"
    }
   },
   "outputs": [
    {
     "data": {
      "text/plain": [
       "1.5"
      ]
     },
     "execution_count": 25,
     "metadata": {},
     "output_type": "execute_result"
    }
   ],
   "source": [
    "let x: f32 = 1.5;\n",
    "let y: f64 = x as f64;\n",
    "y"
   ]
  },
  {
   "cell_type": "markdown",
   "metadata": {
    "slideshow": {
     "slide_type": "subslide"
    }
   },
   "source": [
    "⚠ Warning: some conversions can be lossy"
   ]
  },
  {
   "cell_type": "code",
   "execution_count": 26,
   "metadata": {},
   "outputs": [
    {
     "data": {
      "text/plain": [
       "1.0"
      ]
     },
     "execution_count": 26,
     "metadata": {},
     "output_type": "execute_result"
    }
   ],
   "source": [
    "let f: f64 = 1.000000000001;\n",
    "f as f32"
   ]
  },
  {
   "cell_type": "code",
   "execution_count": 27,
   "metadata": {},
   "outputs": [
    {
     "data": {
      "text/plain": [
       "2"
      ]
     },
     "execution_count": 27,
     "metadata": {},
     "output_type": "execute_result"
    }
   ],
   "source": [
    "let f = 2.5;\n",
    "f as i32"
   ]
  },
  {
   "cell_type": "code",
   "execution_count": 28,
   "metadata": {},
   "outputs": [
    {
     "data": {
      "text/plain": [
       "44"
      ]
     },
     "execution_count": 28,
     "metadata": {},
     "output_type": "execute_result"
    }
   ],
   "source": [
    "let n: i16 = 300;\n",
    "n as i8"
   ]
  },
  {
   "cell_type": "code",
   "execution_count": 29,
   "metadata": {},
   "outputs": [
    {
     "data": {
      "text/plain": [
       "4294967295"
      ]
     },
     "execution_count": 29,
     "metadata": {},
     "output_type": "execute_result"
    }
   ],
   "source": [
    "let n: i32 = -1;\n",
    "n as u32"
   ]
  }
 ],
 "metadata": {
  "kernelspec": {
   "display_name": "Rust",
   "language": "rust",
   "name": "rust"
  },
  "language_info": {
   "codemirror_mode": "rust",
   "file_extension": ".rs",
   "mimetype": "text/rust",
   "name": "Rust",
   "pygment_lexer": "rust",
   "version": ""
  }
 },
 "nbformat": 4,
 "nbformat_minor": 2
}
