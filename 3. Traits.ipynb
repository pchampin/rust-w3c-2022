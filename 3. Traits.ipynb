{
 "cells": [
  {
   "cell_type": "markdown",
   "id": "a39e2fe1",
   "metadata": {
    "slideshow": {
     "slide_type": "slide"
    }
   },
   "source": [
    "# Traits\n",
    "\n",
    "[Pierre-Antoine Champin](http://champin.net/)\n",
    "\n",
    "http://github.com/pchampin/rust-w3c-2022\n",
    "\n",
    "<a rel=\"license\" href=\"http://creativecommons.org/licenses/by-nc-sa/2.0/fr/\"><img alt=\"Contrat Creative Commons\" style=\"border-width:0\" src=\"http://i.creativecommons.org/l/by-nc-sa/2.0/fr/88x31.png\" /></a>"
   ]
  },
  {
   "cell_type": "markdown",
   "id": "aec63b88",
   "metadata": {
    "slideshow": {
     "slide_type": "slide"
    }
   },
   "source": [
    "# Introduction\n",
    "\n",
    "Traits are similar to Java interfaces, in that\n",
    "\n",
    "* they can define a number of abstract methods,\n",
    "* they can be implemented independantly by multiple types.\n"
   ]
  },
  {
   "cell_type": "code",
   "execution_count": 2,
   "id": "6ae3815c",
   "metadata": {},
   "outputs": [],
   "source": [
    "pub trait Animal {\n",
    "    fn color(&self) -> &str;\n",
    "    fn cry(&self) -> &str;\n",
    "}"
   ]
  },
  {
   "cell_type": "markdown",
   "id": "5e1f9ba9",
   "metadata": {},
   "source": [
    "NB: trait methods are always considered public"
   ]
  },
  {
   "cell_type": "markdown",
   "id": "aaf203ef",
   "metadata": {
    "slideshow": {
     "slide_type": "subslide"
    }
   },
   "source": [
    "## Trait implementation by a type"
   ]
  },
  {
   "cell_type": "code",
   "execution_count": 3,
   "id": "66942df5",
   "metadata": {
    "slideshow": {
     "slide_type": "-"
    }
   },
   "outputs": [],
   "source": [
    "pub struct Crow;\n",
    "\n",
    "impl Animal for Crow {\n",
    "    fn color(&self) -> &str {\n",
    "        \"black\"\n",
    "    }\n",
    "    fn cry(&self) -> &str {\n",
    "        \"croak\"\n",
    "    }\n",
    "}"
   ]
  },
  {
   "cell_type": "code",
   "execution_count": 4,
   "id": "a6cb4f38",
   "metadata": {
    "slideshow": {
     "slide_type": "-"
    }
   },
   "outputs": [],
   "source": [
    "pub struct Dog { name: String, color: String }\n",
    "\n",
    "impl Animal for Dog {\n",
    "    fn color(&self) -> &str {\n",
    "        &self.color\n",
    "    }\n",
    "    fn cry(&self) -> &str {\n",
    "        \"bark\"\n",
    "    }\n",
    "}"
   ]
  },
  {
   "cell_type": "markdown",
   "id": "ceab61a2",
   "metadata": {
    "slideshow": {
     "slide_type": "subslide"
    }
   },
   "source": [
    "NB: unlike Java interfaces, Rust traits can contain other things than functions:\n",
    "\n",
    "* constants\n",
    "* types"
   ]
  },
  {
   "cell_type": "markdown",
   "id": "41cf9b36",
   "metadata": {
    "slideshow": {
     "slide_type": "subslide"
    }
   },
   "source": [
    "## Trait inheritance\n",
    "\n",
    "Some traits may require one or several super-traits.\n",
    "\n",
    "Any type implementing this trait **must** also implement all super-traits."
   ]
  },
  {
   "cell_type": "code",
   "execution_count": 5,
   "id": "e71d99df",
   "metadata": {},
   "outputs": [],
   "source": [
    "pub trait Pet: Animal {\n",
    "    fn name(&self) -> &str;\n",
    "}\n",
    "\n",
    "impl Pet for Dog {\n",
    "    fn name(&self) -> &str {\n",
    "        &self.name\n",
    "    }\n",
    "}"
   ]
  },
  {
   "cell_type": "markdown",
   "id": "0d830c4c",
   "metadata": {
    "slideshow": {
     "slide_type": "subslide"
    }
   },
   "source": [
    "## Default implementation\n",
    "\n",
    "The trait may provide a default implementation of some of its methods.\n",
    "\n",
    "This default implementation can only depend on other methods of the trait (or of super-traits).\n"
   ]
  },
  {
   "cell_type": "code",
   "execution_count": 6,
   "id": "ee6139fd",
   "metadata": {},
   "outputs": [],
   "source": [
    "pub trait Rectangle {\n",
    "    fn width(&self) -> f64;\n",
    "    fn height(&self) -> f64;\n",
    "    fn area(&self) -> f64 {\n",
    "        self.width()*self.height()\n",
    "    }\n",
    "    fn perimeter(&self) -> f64 {\n",
    "        2.0*(self.width()+self.height())\n",
    "    }\n",
    "}"
   ]
  },
  {
   "cell_type": "markdown",
   "id": "df17a0fe",
   "metadata": {
    "slideshow": {
     "slide_type": "subslide"
    }
   },
   "source": [
    "## Implementing a trait on foreign types 🦀\n",
    "\n",
    "A crate can define a new type that implements a foreign trait (i.e. from another crate).\n",
    "\n",
    "But crate can also define a new trait, and provide implementations of it for foreign types."
   ]
  },
  {
   "cell_type": "code",
   "execution_count": 7,
   "id": "028b9672",
   "metadata": {},
   "outputs": [
    {
     "data": {
      "text/plain": [
       "5"
      ]
     },
     "execution_count": 7,
     "metadata": {},
     "output_type": "execute_result"
    }
   ],
   "source": [
    "pub trait Digits {\n",
    "    fn digits(&self) -> u32;\n",
    "}\n",
    "\n",
    "impl Digits for i32 {\n",
    "    fn digits(&self) -> u32 {\n",
    "        let mut x = *self;\n",
    "        let mut n = 0;\n",
    "        while x != 0 {\n",
    "            n += 1;\n",
    "            x /= 10;\n",
    "        }\n",
    "        n\n",
    "    }\n",
    "}\n",
    "\n",
    "12345.digits()"
   ]
  },
  {
   "cell_type": "markdown",
   "id": "2de28038",
   "metadata": {
    "slideshow": {
     "slide_type": "subslide"
    }
   },
   "source": [
    "## Deriving traits 🦀\n",
    "\n",
    "Some traits can be *derived* instead of being explicitly implemented\\\n",
    "(i.e. implemented in a standard way, implemented in a special macro)."
   ]
  },
  {
   "cell_type": "code",
   "execution_count": 8,
   "id": "aa13d395",
   "metadata": {},
   "outputs": [
    {
     "name": "stdout",
     "output_type": "stream",
     "text": [
      "Point { x: 0.0, y: 0.0 }\n"
     ]
    }
   ],
   "source": [
    "#[derive(Clone, Copy, Debug, Default)]\n",
    "pub struct Point {\n",
    "    x: f64,\n",
    "    y: f64,\n",
    "}\n",
    "\n",
    "let p1 = Point::default(); // p1.x and p1.y will have the default value for f64, i.e. 0.0\n",
    "let p2 = p1;               // p1 can be copied, since all its fields can be copied\n",
    "let p3 = p1.clone();       // p3.x and p3.y will be clones of p1.x and p1.x\n",
    "println!(\"{:?}\", p3);      // a Point is displayed for debug by recursively displaying its fields"
   ]
  },
  {
   "cell_type": "markdown",
   "id": "2edbcb6d",
   "metadata": {
    "slideshow": {
     "slide_type": "subslide"
    }
   },
   "source": [
    "## Using trait methods\n",
    "\n",
    "To be able to use the methods of a trait, that trait **must** be in the current scope."
   ]
  },
  {
   "cell_type": "code",
   "execution_count": 9,
   "id": "5b0dbc0b",
   "metadata": {},
   "outputs": [
    {
     "ename": "Error",
     "evalue": "the following trait is implemented but not in scope; perhaps add a `use` for it:",
     "output_type": "error",
     "traceback": [
      "",
      "the following trait is implemented but not in scope; perhaps add a `use` for it:"
     ]
    }
   ],
   "source": [
    "{\n",
    "    //use std::io::Write; // THIS IS REQUIRED\n",
    "    let mut buffer: Vec<u8> = vec![];\n",
    "    buffer.write(b\"hello\");\n",
    "    buffer\n",
    "}"
   ]
  },
  {
   "cell_type": "markdown",
   "id": "4ecf842d",
   "metadata": {
    "slideshow": {
     "slide_type": "slide"
    }
   },
   "source": [
    "# Standard traits"
   ]
  },
  {
   "cell_type": "markdown",
   "id": "82e452d1",
   "metadata": {
    "slideshow": {
     "slide_type": "subslide"
    }
   },
   "source": [
    "### [`std::clone::Clone`](https://doc.rust-lang.org/std/clone/trait.Clone.html)\n",
    "\n",
    "Defines the `clone(&self) -> Self` method, allowing to duplicate a value.\n",
    "*Can be derived.*\n",
    "\n",
    "NB: example of type that does *not* implement clone: [`std::fs::File`](https://doc.rust-lang.org/std/fs/struct.File.html)"
   ]
  },
  {
   "cell_type": "code",
   "execution_count": 10,
   "id": "d8fdfaa0",
   "metadata": {},
   "outputs": [
    {
     "name": "stdout",
     "output_type": "stream",
     "text": [
      "[1, 2, 3] [1, 2, 3, 4]\n"
     ]
    }
   ],
   "source": [
    "let v1 = vec![1, 2, 3];\n",
    "let mut v2 = v1.clone();\n",
    "v2.push(4);\n",
    "println!(\"{:?} {:?}\", v1, v2);"
   ]
  },
  {
   "cell_type": "markdown",
   "id": "8ab5d7e9",
   "metadata": {
    "slideshow": {
     "slide_type": "-"
    }
   },
   "source": [
    "NB: `Vec<T>` only implements `Clone` if `T` does."
   ]
  },
  {
   "cell_type": "markdown",
   "id": "31a41c3c",
   "metadata": {
    "slideshow": {
     "slide_type": "subslide"
    }
   },
   "source": [
    "### [`std::default::Default`](https://doc.rust-lang.org/std/default/trait.Default.html)\n",
    "    \n",
    "Defines an associated function `default() -> Self`, constructing a value of this type considered as the \"default\" value.\n",
    "*Can be derived.*"
   ]
  },
  {
   "cell_type": "code",
   "execution_count": 11,
   "id": "3a4164e5",
   "metadata": {},
   "outputs": [
    {
     "data": {
      "text/plain": [
       "0"
      ]
     },
     "execution_count": 11,
     "metadata": {},
     "output_type": "execute_result"
    }
   ],
   "source": [
    "i32::default()"
   ]
  },
  {
   "cell_type": "code",
   "execution_count": 12,
   "id": "efeb0f71",
   "metadata": {},
   "outputs": [
    {
     "data": {
      "text/plain": [
       "\"\""
      ]
     },
     "execution_count": 12,
     "metadata": {},
     "output_type": "execute_result"
    }
   ],
   "source": [
    "String::default()"
   ]
  },
  {
   "cell_type": "code",
   "execution_count": 13,
   "id": "e8190d15",
   "metadata": {},
   "outputs": [
    {
     "data": {
      "text/plain": [
       "None"
      ]
     },
     "execution_count": 13,
     "metadata": {},
     "output_type": "execute_result"
    }
   ],
   "source": [
    "Option::<i32>::default()"
   ]
  },
  {
   "cell_type": "code",
   "execution_count": 14,
   "id": "733d984a",
   "metadata": {},
   "outputs": [
    {
     "data": {
      "text/plain": [
       "[]"
      ]
     },
     "execution_count": 14,
     "metadata": {},
     "output_type": "execute_result"
    }
   ],
   "source": [
    "Vec::<i32>::default()"
   ]
  },
  {
   "cell_type": "markdown",
   "id": "197df15b",
   "metadata": {
    "slideshow": {
     "slide_type": "subslide"
    }
   },
   "source": [
    "### [`std::cmp::PartialEq`](https://doc.rust-lang.org/std/cmp/trait.PartialEq.html)\n",
    "\n",
    "Defines a method `eq(&self, other) -> bool` indicating whether `self` and `other` have the same value.\n",
    "*Can be derived.*\n",
    "\n",
    "**The `==` operator is syntactic sugar for `PartialEq::eq`.**\n",
    "\n",
    "The induced relation **must** be symetric and transitive (but not necessarily reflexive, e.g. `NaN`).\n",
    "\n",
    "There is also a [`PartialOrd`](https://doc.rust-lang.org/std/cmp/trait.PartialOrd.html) trait for operators `<`, `>`, `<=`, `>=`."
   ]
  },
  {
   "cell_type": "markdown",
   "id": "49b82732",
   "metadata": {
    "slideshow": {
     "slide_type": "subslide"
    }
   },
   "source": [
    "### [`std::ops::Add`](https://doc.rust-lang.org/std/ops/trait.Add.html)\n",
    "\n",
    "Defines a method `add(self, other)` returning the sum of `self` et `other`.\n",
    "\n",
    "**The `+` operator is syntactic sugar for `Add::add`.**\n",
    "\n",
    "Il existe aussi les traits [`Sub`](https://doc.rust-lang.org/std/ops/trait.Sub.html) pour l'opérateur `-`,\n",
    "[`Mul`](https://doc.rust-lang.org/std/ops/trait.Mul.html) pour `*`,\n",
    "[`Div`](https://doc.rust-lang.org/std/ops/trait.Div.html) pour `/`..."
   ]
  },
  {
   "cell_type": "markdown",
   "id": "6cb4bcc6",
   "metadata": {
    "slideshow": {
     "slide_type": "subslide"
    }
   },
   "source": [
    "### [`std::fmt::Debug`](https://doc.rust-lang.org/std/fmt/trait.Debug.html)\n",
    "\n",
    "Defines a method `fmt(&self, ...)` defining how to display `self` for developers.\n",
    "*Can be derived.*\n",
    "\n",
    "**The format `{:?}` of `println!` uses `Debug::fmt`.**\n",
    "\n",
    "There is also a [`Display`](https://doc.rust-lang.org/std/fmt/trait.Display.html) trait targetting end-usres, used by the format `{}`."
   ]
  },
  {
   "cell_type": "markdown",
   "id": "31ad2465",
   "metadata": {
    "slideshow": {
     "slide_type": "subslide"
    }
   },
   "source": [
    "### [`std::iter::Iterator`](https://doc.rust-lang.org/std/iter/trait.Iterator.html)\n",
    "\n",
    "Defines a method `next(&mut self)` returning `Some(v)` (the next value to iter on) or `None` (when it is finished).\n",
    "\n",
    "**The `for` loop can be used with any type implementing `Iterator`.**"
   ]
  },
  {
   "cell_type": "code",
   "execution_count": 15,
   "id": "ed9d5018",
   "metadata": {},
   "outputs": [
    {
     "name": "stdout",
     "output_type": "stream",
     "text": [
      "5 4 3 2 1 \n"
     ]
    },
    {
     "data": {
      "text/plain": [
       "()"
      ]
     },
     "execution_count": 15,
     "metadata": {},
     "output_type": "execute_result"
    }
   ],
   "source": [
    "struct CountDown(usize);\n",
    "\n",
    "impl Iterator for CountDown {\n",
    "    type Item = usize;\n",
    "    fn next(&mut self) -> Option<usize> {\n",
    "        if self.0 > 0 { self.0 -= 1; Some(self.0 + 1) }\n",
    "        else { None }\n",
    "    }\n",
    "}\n",
    "\n",
    "for i in CountDown(5) { print!(\"{} \", i) }\n",
    "println!()"
   ]
  },
  {
   "cell_type": "markdown",
   "id": "0903e1ec",
   "metadata": {
    "slideshow": {
     "slide_type": "subslide"
    }
   },
   "source": [
    "NB: `Iterator` also has a wealth of other methods with default implementations based on `next`."
   ]
  },
  {
   "cell_type": "code",
   "execution_count": 16,
   "id": "90dacd0b",
   "metadata": {},
   "outputs": [
    {
     "data": {
      "text/plain": [
       "Some(5)"
      ]
     },
     "execution_count": 16,
     "metadata": {},
     "output_type": "execute_result"
    }
   ],
   "source": [
    "CountDown(5).max()"
   ]
  },
  {
   "cell_type": "code",
   "execution_count": 17,
   "id": "555620a3",
   "metadata": {},
   "outputs": [
    {
     "data": {
      "text/plain": [
       "15"
      ]
     },
     "execution_count": 17,
     "metadata": {},
     "output_type": "execute_result"
    }
   ],
   "source": [
    "let s: usize = CountDown(5).sum();\n",
    "s"
   ]
  },
  {
   "cell_type": "code",
   "execution_count": 18,
   "id": "91775738",
   "metadata": {},
   "outputs": [
    {
     "data": {
      "text/plain": [
       "[16, 9, 4, 1]"
      ]
     },
     "execution_count": 18,
     "metadata": {},
     "output_type": "execute_result"
    }
   ],
   "source": [
    "let v: Vec<_> = CountDown(5)\n",
    "    .skip(1)\n",
    "    .map(|i| i*i)\n",
    "    .collect();\n",
    "v"
   ]
  },
  {
   "cell_type": "markdown",
   "id": "3e1e59ff",
   "metadata": {
    "slideshow": {
     "slide_type": "subslide"
    }
   },
   "source": [
    "### [`std::marker::Copy`](https://doc.rust-lang.org/std/marker/trait.Copy.html)\n",
    "\n",
    "A *marker* trait has no method, but carries a specific *semantics* for the compiler.\n",
    "\n",
    "A type implementing `Copy` indicates to the compiler that\n",
    "\n",
    "* values of this type can be duplicated by a simple memory-copy, and therefore that\n",
    "* assignment of this type can use the copy semantics rather than the move semantics."
   ]
  },
  {
   "cell_type": "markdown",
   "id": "a71cb71c",
   "metadata": {
    "slideshow": {
     "slide_type": "subslide"
    }
   },
   "source": [
    "### [`std::ops::Deref`](https://doc.rust-lang.org/std/ops/trait.Deref.html)\n",
    "\n",
    "Define has an associated type `Target`,\n",
    "and a method `deref(&self) -> &Self::Target`.\n",
    "\n",
    "Considering `t: T` implementing `Deref` to a target type `U`,\\\n",
    "the compiler will also automatically call `deref` when:\n",
    "\n",
    "* `*t` is used, yielding an immutable `U`, or\n",
    "* `&t` is used in a context where `&U` is expected, or\n",
    "* `t.method()` is used, where `method` is a method of `U` using `&self`."
   ]
  },
  {
   "cell_type": "markdown",
   "id": "b257a10f",
   "metadata": {
    "slideshow": {
     "slide_type": "fragment"
    }
   },
   "source": [
    "There is also a [`DerefMut`](https://doc.rust-lang.org/std/ops/trait.DerefMut.html) trait, for borrowing `Self::Target` mutably."
   ]
  },
  {
   "cell_type": "markdown",
   "id": "96a5680f",
   "metadata": {
    "slideshow": {
     "slide_type": "subslide"
    }
   },
   "source": [
    "E.g. `Vec<T>` implements `Deref` and `DerefMut` for `[T]` (slice of T), and therefore \"inherits\" all its methods.\n",
    "\n",
    "This is a form of *composition-based* inheritance."
   ]
  },
  {
   "cell_type": "markdown",
   "id": "df4dd242",
   "metadata": {
    "slideshow": {
     "slide_type": "subslide"
    }
   },
   "source": [
    "### [`std::ops::Drop`](https://doc.rust-lang.org/std/ops/trait.Drop.html)\n",
    "\n",
    "Defines a method `drop(&mut self)` method, that the compiler automatically calls when `self` is dropped (de-allocated). \n",
    "\n",
    "This is usually not required (the default behaviour is enough),\\\n",
    "except when the type is managing an external resource that needs some clean-up (e.g. file, socket...)."
   ]
  },
  {
   "cell_type": "markdown",
   "id": "a3f4dd86",
   "metadata": {
    "slideshow": {
     "slide_type": "slide"
    }
   },
   "source": [
    "# Traits and genericity"
   ]
  },
  {
   "cell_type": "markdown",
   "id": "ebb2c807",
   "metadata": {
    "slideshow": {
     "slide_type": "subslide"
    }
   },
   "source": [
    "## Polymorphic functions"
   ]
  },
  {
   "cell_type": "code",
   "execution_count": 19,
   "id": "d2ddd432",
   "metadata": {},
   "outputs": [],
   "source": [
    "/// Returns the index of the smallest value in the slice\n",
    "fn imin<T>(a: &[T]) -> usize \n",
    "where\n",
    "    T: PartialOrd,\n",
    "{\n",
    "    let mut im = 0;\n",
    "    for i in 1..a.len() {\n",
    "        if a[i] < a[im] {\n",
    "            im = i;\n",
    "        }\n",
    "    }\n",
    "    im\n",
    "}"
   ]
  },
  {
   "cell_type": "markdown",
   "id": "8c6d830d",
   "metadata": {},
   "source": [
    "The `where` clause contains **trait bounds**, which constrain which types can be used for `T`\\\n",
    "(only types implementing the given traits).\n",
    "\n",
    "In return, it allows to use methods of this traits in the function body\\\n",
    "(here: `a[i] < a[im]` thanks to `PartialOrd`)."
   ]
  },
  {
   "cell_type": "markdown",
   "id": "ca115668",
   "metadata": {
    "slideshow": {
     "slide_type": "subslide"
    }
   },
   "source": [
    "### Monomorphisation"
   ]
  },
  {
   "cell_type": "code",
   "execution_count": 20,
   "id": "3396b14d",
   "metadata": {},
   "outputs": [
    {
     "data": {
      "text/plain": [
       "1"
      ]
     },
     "execution_count": 20,
     "metadata": {},
     "output_type": "execute_result"
    }
   ],
   "source": [
    "imin(&[2, -1, 3])"
   ]
  },
  {
   "cell_type": "code",
   "execution_count": 21,
   "id": "d337cd84",
   "metadata": {},
   "outputs": [
    {
     "data": {
      "text/plain": [
       "2"
      ]
     },
     "execution_count": 21,
     "metadata": {},
     "output_type": "execute_result"
    }
   ],
   "source": [
    "imin(&[\"toto\", \"titi\", \"tata\"])"
   ]
  },
  {
   "cell_type": "markdown",
   "id": "a68a59ce",
   "metadata": {},
   "source": [
    "For each concrete type with which the function `imin` is used,\\\n",
    "the compiler produces a new version of this function.\n",
    "\n",
    "→ no cost at runtime (except for a bigger code)"
   ]
  },
  {
   "cell_type": "markdown",
   "id": "d81dc464",
   "metadata": {
    "slideshow": {
     "slide_type": "subslide"
    }
   },
   "source": [
    "### Overriding functions (*alla* Java)\n",
    "\n",
    "In Java, several functions/methods with the same name can co-exist:\n",
    "```java\n",
    "void toto(int i) { System.out.println(\"You gave me the integer \" + i); }\n",
    "void toto(String s) { System.out.println(\"You gave me the string \" + s); }\n",
    "```\n",
    "\n",
    "In Rust, we can use traits to get the same result."
   ]
  },
  {
   "cell_type": "code",
   "execution_count": 22,
   "id": "1c17386f",
   "metadata": {
    "slideshow": {
     "slide_type": "fragment"
    }
   },
   "outputs": [],
   "source": [
    "pub trait Description {\n",
    "    fn description(&self) -> String; \n",
    "}\n",
    "\n",
    "fn toto<D>(d: D)\n",
    "where\n",
    "    D: Description\n",
    "{\n",
    "    println!(\"You gave me {}\", d.description());\n",
    "}"
   ]
  },
  {
   "cell_type": "code",
   "execution_count": 23,
   "id": "080c262a",
   "metadata": {
    "slideshow": {
     "slide_type": "subslide"
    }
   },
   "outputs": [],
   "source": [
    "impl Description for i32 {\n",
    "    fn description(&self) -> String {\n",
    "        format!(\"the integer {}\", self)\n",
    "    }\n",
    "}\n",
    "\n",
    "impl Description for &'_ str {\n",
    "    fn description(&self) -> String {\n",
    "        format!(\"the string {}\", self)\n",
    "    }\n",
    "}"
   ]
  },
  {
   "cell_type": "code",
   "execution_count": 24,
   "id": "44de63f3",
   "metadata": {},
   "outputs": [
    {
     "name": "stdout",
     "output_type": "stream",
     "text": [
      "You gave me the integer 42\n"
     ]
    }
   ],
   "source": [
    "toto(42);"
   ]
  },
  {
   "cell_type": "markdown",
   "id": "35e4a8b7",
   "metadata": {
    "slideshow": {
     "slide_type": "subslide"
    }
   },
   "source": [
    "Benefit: somebody else may implement the `Description` trait for their own type."
   ]
  },
  {
   "cell_type": "code",
   "execution_count": 25,
   "id": "67ec8e68",
   "metadata": {},
   "outputs": [],
   "source": [
    "impl Description for Point {\n",
    "    fn description(&self) -> String {\n",
    "        format!(\"the point ({}, {})\", self.x, self.y)\n",
    "    }\n",
    "}"
   ]
  },
  {
   "cell_type": "code",
   "execution_count": 26,
   "id": "6d1b60dd",
   "metadata": {},
   "outputs": [
    {
     "name": "stdout",
     "output_type": "stream",
     "text": [
      "You gave me the point (1, 2.5)\n"
     ]
    }
   ],
   "source": [
    "toto(Point{ x: 1.0, y: 2.5 });"
   ]
  },
  {
   "cell_type": "markdown",
   "id": "0d49b112",
   "metadata": {
    "slideshow": {
     "slide_type": "slide"
    }
   },
   "source": [
    "# Epilogue\n",
    "\n",
    "So, is Rust an object-orientend programming language?\n",
    "\n",
    "* encapsulation\n",
    "* abstraction\n",
    "* polymorphism\n",
    "* inheritance\n",
    "* dynamic dispatch"
   ]
  }
 ],
 "metadata": {
  "kernelspec": {
   "display_name": "Rust",
   "language": "rust",
   "name": "rust"
  },
  "language_info": {
   "codemirror_mode": "rust",
   "file_extension": ".rs",
   "mimetype": "text/rust",
   "name": "Rust",
   "pygment_lexer": "rust",
   "version": ""
  }
 },
 "nbformat": 4,
 "nbformat_minor": 5
}
