{
 "cells": [
  {
   "cell_type": "markdown",
   "id": "29582079",
   "metadata": {
    "slideshow": {
     "slide_type": "slide"
    }
   },
   "source": [
    "# Structured types\n",
    "\n",
    "[Pierre-Antoine Champin](http://champin.net/)\n",
    "\n",
    "http://github.com/pchampin/rust-w3c-2022\n",
    "\n",
    "<a rel=\"license\" href=\"http://creativecommons.org/licenses/by-nc-sa/2.0/fr/\"><img alt=\"Contrat Creative Commons\" style=\"border-width:0\" src=\"http://i.creativecommons.org/l/by-nc-sa/2.0/fr/88x31.png\" /></a>"
   ]
  },
  {
   "cell_type": "markdown",
   "id": "8d8e191c",
   "metadata": {
    "slideshow": {
     "slide_type": "subslide"
    }
   },
   "source": [
    "## Table of content\n",
    "\n",
    "* [`struct` types](#struct)\n",
    "* [Destructuring assignments](#destructuring)\n",
    "* [`enum` types](#enum)\n",
    "* [Methods](#methods)\n",
    "* [Standard `enum`s](#std-enums)\n",
    "* [Modules and visibility](#modules)"
   ]
  },
  {
   "cell_type": "markdown",
   "id": "5f9d4b0f",
   "metadata": {
    "slideshow": {
     "slide_type": "fragment"
    }
   },
   "source": [
    "Background question: is Rust an object oriented programming language?"
   ]
  },
  {
   "cell_type": "markdown",
   "id": "97c16113",
   "metadata": {
    "slideshow": {
     "slide_type": "slide"
    }
   },
   "source": [
    "# `struct` types <a class=\"anchor\" id=\"struct\"></a>\n",
    "\n",
    "Somewhere in-between C's structs and C++'s classes."
   ]
  },
  {
   "cell_type": "markdown",
   "id": "27b40cd6",
   "metadata": {
    "slideshow": {
     "slide_type": "subslide"
    }
   },
   "source": [
    "## Declaring a `struct` type"
   ]
  },
  {
   "cell_type": "code",
   "execution_count": 2,
   "id": "b2c76302",
   "metadata": {
    "slideshow": {
     "slide_type": "-"
    }
   },
   "outputs": [],
   "source": [
    "struct Person {\n",
    "    given_name: String,\n",
    "    family_name: String,\n",
    "    age: u8,\n",
    "}\n",
    "\n",
    "struct Color {\n",
    "    r: u8,\n",
    "    g: u8,\n",
    "    b: u8,\n",
    "}"
   ]
  },
  {
   "cell_type": "markdown",
   "id": "957030a1",
   "metadata": {
    "slideshow": {
     "slide_type": "subslide"
    }
   },
   "source": [
    "## Initializing a `struct`"
   ]
  },
  {
   "cell_type": "code",
   "execution_count": 3,
   "id": "480602f9",
   "metadata": {
    "slideshow": {
     "slide_type": "-"
    }
   },
   "outputs": [],
   "source": [
    "let black = Color { b: 0, r: 0, g: 0 };\n",
    "\n",
    "let blue = Color { b: 255, ..black };\n",
    "\n",
    "let (r, g) = (12, 34);\n",
    "let mut mycolor = Color { r, g, b: r+g };"
   ]
  },
  {
   "cell_type": "markdown",
   "id": "2297d211",
   "metadata": {
    "slideshow": {
     "slide_type": "subslide"
    }
   },
   "source": [
    "## Accessing the fields of a `struct`"
   ]
  },
  {
   "cell_type": "code",
   "execution_count": 4,
   "id": "5c635691",
   "metadata": {
    "slideshow": {
     "slide_type": "-"
    }
   },
   "outputs": [],
   "source": [
    "// reading\n",
    "let x = mycolor.b;\n",
    "\n",
    "// modifying\n",
    "mycolor.r = x+1;"
   ]
  },
  {
   "cell_type": "markdown",
   "id": "8d688175",
   "metadata": {
    "slideshow": {
     "slide_type": "subslide"
    }
   },
   "source": [
    "## Tuple-`struct` type"
   ]
  },
  {
   "cell_type": "code",
   "execution_count": 5,
   "id": "df2790bf",
   "metadata": {
    "slideshow": {
     "slide_type": "-"
    }
   },
   "outputs": [],
   "source": [
    "struct Rgb(u8, u8, u8);\n",
    "\n",
    "let green = Rgb(0, 255, 0);\n",
    "\n",
    "// fields are accessed as with tuples (.0, .1, ...)\n",
    "let x = green.1;"
   ]
  },
  {
   "cell_type": "markdown",
   "id": "f64a33cd",
   "metadata": {
    "slideshow": {
     "slide_type": "subslide"
    }
   },
   "source": [
    "## Zero-sized `struct` type\n",
    "\n",
    "struct Foo;\n",
    "\n",
    "let f = Foo;"
   ]
  },
  {
   "cell_type": "code",
   "execution_count": 6,
   "id": "29aeda2f",
   "metadata": {
    "slideshow": {
     "slide_type": "-"
    }
   },
   "outputs": [],
   "source": [
    "struct Foo;\n",
    "\n",
    "let f = Foo;"
   ]
  },
  {
   "cell_type": "markdown",
   "id": "b27b781a",
   "metadata": {
    "slideshow": {
     "slide_type": "fragment"
    }
   },
   "source": [
    "\"What the heck would I do that for?\"\n",
    "\n",
    "→ we will see that later..."
   ]
  },
  {
   "cell_type": "markdown",
   "id": "2efd4677",
   "metadata": {
    "slideshow": {
     "slide_type": "slide"
    }
   },
   "source": [
    "# Destructuring assignment (a.k.a. pattern matching) 🦀 <a class=\"anchor\" id=\"destructuring\"></a>\n",
    "\n",
    "Instead of writing"
   ]
  },
  {
   "cell_type": "markdown",
   "id": "e741a689",
   "metadata": {
    "slideshow": {
     "slide_type": "subslide"
    }
   },
   "source": [
    "Instead of writing"
   ]
  },
  {
   "cell_type": "code",
   "execution_count": 7,
   "id": "08d1378e",
   "metadata": {
    "scrolled": true,
    "slideshow": {
     "slide_type": "-"
    }
   },
   "outputs": [],
   "source": [
    "let r = mycolor.r;\n",
    "let g = mycolor.g;\n",
    "let b = mycolor.b;"
   ]
  },
  {
   "cell_type": "markdown",
   "id": "721db47d",
   "metadata": {
    "slideshow": {
     "slide_type": "fragment"
    }
   },
   "source": [
    "we can write"
   ]
  },
  {
   "cell_type": "code",
   "execution_count": 8,
   "id": "7b81d995",
   "metadata": {
    "scrolled": true,
    "slideshow": {
     "slide_type": "-"
    }
   },
   "outputs": [],
   "source": [
    "let Color { r, g, b } = mycolor;"
   ]
  },
  {
   "cell_type": "markdown",
   "id": "fcc5cf04",
   "metadata": {
    "slideshow": {
     "slide_type": "subslide"
    }
   },
   "source": [
    "Instead of writing"
   ]
  },
  {
   "cell_type": "code",
   "execution_count": 9,
   "id": "ff4549fe",
   "metadata": {
    "scrolled": true,
    "slideshow": {
     "slide_type": "-"
    }
   },
   "outputs": [],
   "source": [
    "let r1 = mycolor.r;\n",
    "let g1 = mycolor.g;\n",
    "let b1 = mycolor.b;"
   ]
  },
  {
   "cell_type": "markdown",
   "id": "31c34bd1",
   "metadata": {
    "slideshow": {
     "slide_type": "-"
    }
   },
   "source": [
    "we can write"
   ]
  },
  {
   "cell_type": "code",
   "execution_count": 10,
   "id": "8fa5f1ee",
   "metadata": {
    "scrolled": true,
    "slideshow": {
     "slide_type": "-"
    }
   },
   "outputs": [],
   "source": [
    "let Color { r: r1, g: g1, b: b1 } = mycolor;"
   ]
  },
  {
   "cell_type": "markdown",
   "id": "6dfa36ab",
   "metadata": {
    "slideshow": {
     "slide_type": "subslide"
    }
   },
   "source": [
    "Instead of writing"
   ]
  },
  {
   "cell_type": "code",
   "execution_count": 11,
   "id": "eb77aa4c",
   "metadata": {
    "scrolled": true,
    "slideshow": {
     "slide_type": "-"
    }
   },
   "outputs": [],
   "source": [
    "let r2 = green.0;\n",
    "let g2 = green.1;\n",
    "let b2 = green.2;"
   ]
  },
  {
   "cell_type": "markdown",
   "id": "ff384760",
   "metadata": {
    "slideshow": {
     "slide_type": "-"
    }
   },
   "source": [
    "we can write"
   ]
  },
  {
   "cell_type": "code",
   "execution_count": 12,
   "id": "e9b8f88a",
   "metadata": {
    "scrolled": true,
    "slideshow": {
     "slide_type": "-"
    }
   },
   "outputs": [],
   "source": [
    "let Rgb(r2, g2, b2) = green;"
   ]
  },
  {
   "cell_type": "markdown",
   "id": "de6b4480",
   "metadata": {
    "slideshow": {
     "slide_type": "fragment"
    }
   },
   "source": [
    "...and by the way, this also works with tuples and arrays"
   ]
  },
  {
   "cell_type": "code",
   "execution_count": 13,
   "id": "44a781d6",
   "metadata": {},
   "outputs": [],
   "source": [
    "let (a, b, c) = (1, 2, 3);\n",
    "let [a, b, c] = [1, 2, 3];"
   ]
  },
  {
   "cell_type": "markdown",
   "id": "ce57074c",
   "metadata": {
    "slideshow": {
     "slide_type": "subslide"
    }
   },
   "source": [
    "## Partial destructuring assignment"
   ]
  },
  {
   "cell_type": "code",
   "execution_count": 14,
   "id": "2b25b034",
   "metadata": {
    "slideshow": {
     "slide_type": "-"
    }
   },
   "outputs": [
    {
     "name": "stdout",
     "output_type": "stream",
     "text": [
      "46 34\n",
      "255\n",
      "1 3 9\n"
     ]
    }
   ],
   "source": [
    "let Color { b, g, .. } = mycolor;\n",
    "println!(\"{} {}\", b, g);\n",
    "\n",
    "let Rgb(_, g, _) = green;\n",
    "println!(\"{}\", g);\n",
    "\n",
    "let [first, _, third, .., last] = [1, 2, 3, 4, 5, 6, 7, 8, 9];\n",
    "println!(\"{} {} {}\", first, third, last);"
   ]
  },
  {
   "cell_type": "markdown",
   "id": "4e975c88",
   "metadata": {
    "slideshow": {
     "slide_type": "subslide"
    }
   },
   "source": [
    "## Recursive destructuring assignment"
   ]
  },
  {
   "cell_type": "code",
   "execution_count": 15,
   "id": "b6513769",
   "metadata": {
    "slideshow": {
     "slide_type": "-"
    }
   },
   "outputs": [
    {
     "name": "stdout",
     "output_type": "stream",
     "text": [
      "0 255\n"
     ]
    }
   ],
   "source": [
    "struct Gradient(Color, Color);\n",
    "\n",
    "let g = Gradient(black, blue);\n",
    "\n",
    "let Gradient(Color { r: r1, .. }, Color { b: b2, .. }) = g;\n",
    "println!(\"{} {}\", r1, b2);"
   ]
  },
  {
   "cell_type": "markdown",
   "id": "8fd6cba7",
   "metadata": {
    "slideshow": {
     "slide_type": "subslide"
    }
   },
   "source": [
    "## Destructuring assignment and move semantics\n",
    "\n",
    "As any assignment in Rust, \\\n",
    "destructuring assignments have the move semantics \\\n",
    "(unless the type implements `Copy`).\n",
    "\n"
   ]
  },
  {
   "cell_type": "code",
   "execution_count": 16,
   "id": "4f68f47e",
   "metadata": {},
   "outputs": [],
   "source": [
    "let Gradient(c1, c2) = g;"
   ]
  },
  {
   "cell_type": "markdown",
   "id": "fc4ec775",
   "metadata": {},
   "source": [
    "NB: in the examples above (`Color`, `Rgb`), `u8` fields implement `Copy`."
   ]
  },
  {
   "cell_type": "markdown",
   "id": "63ce2883",
   "metadata": {
    "slideshow": {
     "slide_type": "subslide"
    }
   },
   "source": [
    "## Destructuring references"
   ]
  },
  {
   "cell_type": "code",
   "execution_count": 17,
   "id": "96913862",
   "metadata": {},
   "outputs": [
    {
     "name": "stdout",
     "output_type": "stream",
     "text": [
      "0 0\n"
     ]
    },
    {
     "data": {
      "text/plain": [
       "128"
      ]
     },
     "execution_count": 17,
     "metadata": {},
     "output_type": "execute_result"
    }
   ],
   "source": [
    "{\n",
    "    let mut g2 = Gradient(c1, c2);\n",
    "    let Gradient(c3, c4) = &g2;\n",
    "    // c3 and c4 are of type &Color\n",
    "    println!(\"{} {}\", c3.r, g2.0.r);\n",
    "    \n",
    "    let Gradient(c5, c6) = &mut g2;\n",
    "    // c5 and c6 are of type &mut Color\n",
    "    c5.b = 128;\n",
    "    g2.0.b\n",
    "}"
   ]
  },
  {
   "cell_type": "markdown",
   "id": "eef22468",
   "metadata": {
    "slideshow": {
     "slide_type": "slide"
    }
   },
   "source": [
    "# `enum` types 🦀 <a class=\"anchor\" id=\"enum\"></a>\n",
    "\n",
    "A mix of C's `enum`s and `union`s."
   ]
  },
  {
   "cell_type": "markdown",
   "id": "d62cea1c",
   "metadata": {
    "slideshow": {
     "slide_type": "subslide"
    }
   },
   "source": [
    "## Declaring a simple `enum` type"
   ]
  },
  {
   "cell_type": "code",
   "execution_count": 18,
   "id": "fa42a293",
   "metadata": {
    "slideshow": {
     "slide_type": "-"
    }
   },
   "outputs": [],
   "source": [
    "enum Beatle {\n",
    "    George,\n",
    "    John,\n",
    "    Paul,\n",
    "    Ringo,\n",
    "}"
   ]
  },
  {
   "cell_type": "markdown",
   "id": "5c4283be",
   "metadata": {
    "slideshow": {
     "slide_type": "fragment"
    }
   },
   "source": [
    "`George`, `John`... are called the **variants** of the `Beatle` type."
   ]
  },
  {
   "cell_type": "markdown",
   "id": "77496f94",
   "metadata": {
    "slideshow": {
     "slide_type": "subslide"
    }
   },
   "source": [
    "## Initializing a simple `enum`"
   ]
  },
  {
   "cell_type": "code",
   "execution_count": 19,
   "id": "86bce3b7",
   "metadata": {
    "slideshow": {
     "slide_type": "-"
    }
   },
   "outputs": [],
   "source": [
    "let b1 = Beatle::John;"
   ]
  },
  {
   "cell_type": "code",
   "execution_count": 20,
   "id": "70593aa0",
   "metadata": {},
   "outputs": [],
   "source": [
    "use Beatle::*;\n",
    "let b2 = Paul;"
   ]
  },
  {
   "cell_type": "markdown",
   "id": "c09286a2",
   "metadata": {
    "slideshow": {
     "slide_type": "subslide"
    }
   },
   "source": [
    "## Using a simple `enum`"
   ]
  },
  {
   "cell_type": "code",
   "execution_count": 21,
   "id": "253eb411",
   "metadata": {
    "slideshow": {
     "slide_type": "-"
    }
   },
   "outputs": [],
   "source": [
    "fn instrument(b: Beatle) -> &'static str {\n",
    "    match b {\n",
    "        George | John => \"guitar\",\n",
    "        Paul => \"bass\",\n",
    "        Ringo => \"drums\",\n",
    "    }\n",
    "}"
   ]
  },
  {
   "cell_type": "markdown",
   "id": "34247fed",
   "metadata": {
    "slideshow": {
     "slide_type": "subslide"
    }
   },
   "source": [
    "## Declaring a complex `enum` type"
   ]
  },
  {
   "cell_type": "code",
   "execution_count": 22,
   "id": "a6b95b1e",
   "metadata": {
    "slideshow": {
     "slide_type": "-"
    }
   },
   "outputs": [],
   "source": [
    "struct Point { x: f64, y: f64 }\n",
    "\n",
    "enum Figure2D {\n",
    "    Plane,\n",
    "    Line(Point, Point),\n",
    "    Circle { centre: Point, radius: f64 },\n",
    "}"
   ]
  },
  {
   "cell_type": "markdown",
   "id": "b590823f",
   "metadata": {
    "slideshow": {
     "slide_type": "subslide"
    }
   },
   "source": [
    "## Initializing an `enum`"
   ]
  },
  {
   "cell_type": "code",
   "execution_count": 23,
   "id": "4ca14b04",
   "metadata": {},
   "outputs": [],
   "source": [
    "let p = Figure2D::Plane;\n",
    "let l = Figure2D::Line(Point { x: 1.0, y: 2.0 }, Point { x: 3.0, y: 4.0 });\n",
    "\n",
    "let centre = Point { x: 5.0, y: 6.0 };\n",
    "let c = Figure2D::Circle{ centre, radius: 7.0 };\n",
    "\n",
    "// p, l and c all have the same type: Figure2D\n",
    "let figures = vec![p, l, c];"
   ]
  },
  {
   "cell_type": "markdown",
   "id": "2438983d",
   "metadata": {
    "slideshow": {
     "slide_type": "subslide"
    }
   },
   "source": [
    "## Using an `enum` with `match`"
   ]
  },
  {
   "cell_type": "code",
   "execution_count": 24,
   "id": "808fb3a9",
   "metadata": {
    "slideshow": {
     "slide_type": "-"
    }
   },
   "outputs": [],
   "source": [
    "use std::f64::consts::PI;\n",
    "\n",
    "fn area(f: Figure2D) -> f64 {\n",
    "    use Figure2D::*;\n",
    "    match f {\n",
    "        Plane => f64::INFINITY,\n",
    "        Line(..) => 0.0,\n",
    "        Circle { radius: r, .. } => PI*r*r,\n",
    "    }\n",
    "}"
   ]
  },
  {
   "cell_type": "markdown",
   "id": "aa502b17",
   "metadata": {
    "slideshow": {
     "slide_type": "subslide"
    }
   },
   "source": [
    "## `if let` statement"
   ]
  },
  {
   "cell_type": "code",
   "execution_count": 25,
   "id": "d8b9f3cf",
   "metadata": {
    "slideshow": {
     "slide_type": "-"
    }
   },
   "outputs": [
    {
     "data": {
      "text/plain": [
       "()"
      ]
     },
     "execution_count": 25,
     "metadata": {},
     "output_type": "execute_result"
    }
   ],
   "source": [
    "use Figure2D::*;\n",
    "\n",
    "if let Line(p1, p2) = &figures[0] {\n",
    "    // do something with p1 and p2\n",
    "}\n",
    "\n",
    "// more concise that:\n",
    "match &figures[0] {\n",
    "    Line(p1, p2) => { /* do something with p1 and p2 */ }\n",
    "    _ => {}\n",
    "}"
   ]
  },
  {
   "cell_type": "markdown",
   "id": "cb691b52",
   "metadata": {},
   "source": [
    "NB: there also exists a `while let` statement."
   ]
  },
  {
   "cell_type": "markdown",
   "id": "6cc1c5b3",
   "metadata": {
    "slideshow": {
     "slide_type": "slide"
    }
   },
   "source": [
    "# Methods  <a class=\"anchor\" id=\"methods\"></a>"
   ]
  },
  {
   "cell_type": "markdown",
   "id": "1ee97aab",
   "metadata": {
    "slideshow": {
     "slide_type": "subslide"
    }
   },
   "source": [
    "## All types have methods in Rust 🦀\n",
    "\n",
    "... even atomic types.\n",
    "\n",
    "E.g"
   ]
  },
  {
   "cell_type": "code",
   "execution_count": 26,
   "id": "5057e2a3",
   "metadata": {},
   "outputs": [],
   "source": [
    "let x = \"hello\".len();\n",
    "let y = 42.max(0);\n",
    "let z = 3.14_f64.log2();"
   ]
  },
  {
   "cell_type": "markdown",
   "id": "7e440b81",
   "metadata": {
    "slideshow": {
     "slide_type": "subslide"
    }
   },
   "source": [
    "## Defining methods for a user-defined type"
   ]
  },
  {
   "cell_type": "code",
   "execution_count": 27,
   "id": "a7fc0d9e",
   "metadata": {},
   "outputs": [],
   "source": [
    "impl Color {\n",
    "    /// Non-mutating method, borrowing self\n",
    "    fn saturation(&self) -> f64 {\n",
    "        let cmax = self.r.max(self.g).max(self.b);\n",
    "        if cmax == 0 {\n",
    "            0.0\n",
    "        } else {\n",
    "            let cmax = cmax as f64; // shadowing\n",
    "            let cmin = self.r.min(self.g).min(self.b) as f64;\n",
    "            (cmax - cmin) / cmax\n",
    "        }\n",
    "    }\n",
    "    \n",
    "    /// Mutating method, borrowing self mutably\n",
    "    fn lighten(&mut self, delta: u8) {\n",
    "        self.r = self.r.saturating_add(delta);\n",
    "        self.g = self.g.saturating_add(delta);\n",
    "        self.b = self.b.saturating_add(delta);\n",
    "    }\n",
    "}"
   ]
  },
  {
   "cell_type": "code",
   "execution_count": 28,
   "id": "d25aa6f4",
   "metadata": {},
   "outputs": [
    {
     "name": "stdout",
     "output_type": "stream",
     "text": [
      "1\n",
      "0.5019607843137255\n"
     ]
    }
   ],
   "source": [
    "let mut c = Color { r: 180, g: 0, b: 0};\n",
    "println!(\"{}\", c.saturation());\n",
    "c.lighten(127);\n",
    "println!(\"{}\", c.saturation());"
   ]
  },
  {
   "cell_type": "markdown",
   "id": "d1aa1bc4",
   "metadata": {
    "slideshow": {
     "slide_type": "subslide"
    }
   },
   "source": [
    "## More methods and associated functions"
   ]
  },
  {
   "cell_type": "code",
   "execution_count": 29,
   "id": "49941a95",
   "metadata": {},
   "outputs": [],
   "source": [
    "impl Color { // there can be more than one 'impl' blocks for a type\n",
    "\n",
    "    /// \"Consuming\" method, moving self\n",
    "    fn to_rgb(self) -> Rgb {\n",
    "        let Color { r, g, b } = self;\n",
    "        Rgb(r, g, b)\n",
    "    }\n",
    "    \n",
    "    /// Associated function, without a 'self' parameter.\n",
    "    /// Common pattern for \"constructor\"\n",
    "    fn new(r: u8, g: u8, b: u8) -> Color {\n",
    "        Color { r, g, b }\n",
    "    }\n",
    "}"
   ]
  },
  {
   "cell_type": "code",
   "execution_count": 30,
   "id": "ea06a836",
   "metadata": {},
   "outputs": [
    {
     "name": "stdout",
     "output_type": "stream",
     "text": [
      "0 0 128\n"
     ]
    }
   ],
   "source": [
    "let navy = Color::new(0, 0, 128);\n",
    "let x: Rgb = navy.to_rgb(); \n",
    "//println!(\"{}\", navy.saturation()); // does not compile\n",
    "println!(\"{} {} {}\", x.0, x.1, x.2);"
   ]
  },
  {
   "cell_type": "markdown",
   "id": "a64b5a06",
   "metadata": {
    "slideshow": {
     "slide_type": "slide"
    }
   },
   "source": [
    "# Standard `enums` 🦀  <a class=\"anchor\" id=\"std-enums\"></a>"
   ]
  },
  {
   "cell_type": "markdown",
   "id": "61380d5a",
   "metadata": {
    "slideshow": {
     "slide_type": "subslide"
    }
   },
   "source": [
    "## The `Option<T>` type 🦀"
   ]
  },
  {
   "cell_type": "markdown",
   "id": "89a7a9c7",
   "metadata": {
    "slideshow": {
     "slide_type": "subslide"
    }
   },
   "source": [
    "### Motivation\n",
    "\n",
    "* In Java, a function with return type `MyObject` may return an instance of `MyObject` *or* `null`. (Same in C with a function returning a pointer)\n",
    "\n",
    "* This is a breach in the type system, because `null` is *not* of type `MyObject`:\n",
    "\n",
    "    + it does not have the method of that class,\n",
    "    + and any attempt to use it as a `MyObject` will raise an error (`NullPointerException`)"
   ]
  },
  {
   "cell_type": "markdown",
   "id": "a7791e9c",
   "metadata": {
    "slideshow": {
     "slide_type": "subslide"
    }
   },
   "source": [
    "* In Rust, a function with return type `T` **must** return a `T` value.\n",
    "\n",
    "* There are however cases where one might want to return \"a `T` or nothing\". Examples:\n",
    "\n",
    "  + the `pop()` method of `Vec<T>` removes the last element of the vector and returns it, but does nothing if the vector is empty.\n",
    "  \n",
    "  + the `get(i)` method of `[T]` returns the element at index *i* if it exists, or nothing if *i* is too big."
   ]
  },
  {
   "cell_type": "markdown",
   "id": "88ee0d11",
   "metadata": {
    "slideshow": {
     "slide_type": "subslide"
    }
   },
   "source": [
    "* The return type of those methods is `Option<T>`, an `enum` with two variants:\n",
    "\n",
    "  + `None`, representing \"no value\"\n",
    "  + `Some(t)`, where *t* is a `T` value"
   ]
  },
  {
   "cell_type": "markdown",
   "id": "1debda27",
   "metadata": {
    "slideshow": {
     "slide_type": "subslide"
    }
   },
   "source": [
    "### `Option<T>` in action"
   ]
  },
  {
   "cell_type": "code",
   "execution_count": 31,
   "id": "816a9106",
   "metadata": {
    "slideshow": {
     "slide_type": "subslide"
    }
   },
   "outputs": [
    {
     "data": {
      "text/plain": [
       "6"
      ]
     },
     "execution_count": 31,
     "metadata": {},
     "output_type": "execute_result"
    }
   ],
   "source": [
    "/// Retun the sum of all positive values in v\n",
    "fn foo(mut v: Vec<i32>) -> i32 {\n",
    "    let mut s = 0;\n",
    "    loop {\n",
    "        match v.pop() {\n",
    "            None => {\n",
    "                return s;\n",
    "            }\n",
    "            Some(i) if i > 0 => {\n",
    "                s += i;\n",
    "            }\n",
    "            _ => {}\n",
    "        }\n",
    "    }\n",
    "}\n",
    "\n",
    "foo(vec![2, -3, 4])"
   ]
  },
  {
   "cell_type": "markdown",
   "id": "8cd69925",
   "metadata": {
    "slideshow": {
     "slide_type": "subslide"
    }
   },
   "source": [
    "Other implémentation, using `while let`"
   ]
  },
  {
   "cell_type": "code",
   "execution_count": 32,
   "id": "84fa862d",
   "metadata": {
    "slideshow": {
     "slide_type": "-"
    }
   },
   "outputs": [
    {
     "data": {
      "text/plain": [
       "6"
      ]
     },
     "execution_count": 32,
     "metadata": {},
     "output_type": "execute_result"
    }
   ],
   "source": [
    "/// Retun the sum of all positive values in v\n",
    "fn foo(mut v: Vec<i32>) -> i32 {\n",
    "    let mut s = 0;\n",
    "    while let Some(i) = v.pop() {\n",
    "        if i > 0 {\n",
    "            s += i;\n",
    "        }\n",
    "    }\n",
    "    return s;\n",
    "}\n",
    "\n",
    "foo(vec![2, -3, 4])"
   ]
  },
  {
   "cell_type": "markdown",
   "id": "85de79aa",
   "metadata": {
    "slideshow": {
     "slide_type": "subslide"
    }
   },
   "source": [
    "### The `unwrap` method\n",
    "\n",
    "When we are confident that the option is not `None`,\n",
    "we can use the `unwrap` method:\n",
    "\n",
    "* for `Some(t)`, it returns `t`;\n",
    "* for `None`, it stops the program (panic) with an error message."
   ]
  },
  {
   "cell_type": "code",
   "execution_count": 33,
   "id": "451bf6f9",
   "metadata": {},
   "outputs": [
    {
     "data": {
      "text/plain": [
       "5"
      ]
     },
     "execution_count": 33,
     "metadata": {},
     "output_type": "execute_result"
    }
   ],
   "source": [
    "let mut v = vec![1,1,2,3,5];\n",
    "let val: i32 = v.pop().unwrap();\n",
    "val"
   ]
  },
  {
   "cell_type": "markdown",
   "id": "d9f4e090",
   "metadata": {
    "slideshow": {
     "slide_type": "subslide"
    }
   },
   "source": [
    "## The `Result<T,E>` type 🦀"
   ]
  },
  {
   "cell_type": "markdown",
   "id": "89a7d506",
   "metadata": {
    "slideshow": {
     "slide_type": "subslide"
    }
   },
   "source": [
    "### Motivation\n",
    "\n",
    "* Some functions may succeed (and return their result normally) or *fail*.\n",
    "\n",
    "  + In the latter case, we might want to know the reason of the failure.\n",
    "  \n",
    "* In Rust, these functions return a `Result<T,E>`, an `enum` with the following variants:\n",
    "\n",
    "  + `Ok(t)` where *t* is a `T` value, representing the normal outcome of the function;\n",
    "  + `Err(e)` where *e* is an `E` value, representing an abnormal outcome."
   ]
  },
  {
   "cell_type": "markdown",
   "id": "ddc8398b",
   "metadata": {
    "slideshow": {
     "slide_type": "subslide"
    }
   },
   "source": [
    "### `Result<T, E>` in action"
   ]
  },
  {
   "cell_type": "code",
   "execution_count": 34,
   "id": "fd098fb9",
   "metadata": {},
   "outputs": [
    {
     "name": "stdout",
     "output_type": "stream",
     "text": [
      "Content: 681 bytes\n"
     ]
    },
    {
     "data": {
      "text/plain": [
       "()"
      ]
     },
     "execution_count": 34,
     "metadata": {},
     "output_type": "execute_result"
    }
   ],
   "source": [
    "use std::fs::read\n",
    "\n",
    "match read(\"README.md\") {\n",
    "    Ok(content) => println!(\"Content: {} bytes\", content.len()),\n",
    "    Err(e) => println!(\"ERROR: {}\", e),\n",
    "}"
   ]
  },
  {
   "cell_type": "markdown",
   "id": "bc7b4d58",
   "metadata": {
    "slideshow": {
     "slide_type": "subslide"
    }
   },
   "source": [
    "NB: the `Result<T,E>` also has an `unwrap` method,\\\n",
    "unwrapping the `Ok` value and panicking for `Err`."
   ]
  },
  {
   "cell_type": "code",
   "execution_count": 35,
   "id": "8d85f6f5",
   "metadata": {},
   "outputs": [
    {
     "name": "stdout",
     "output_type": "stream",
     "text": [
      "681 bytes\n"
     ]
    }
   ],
   "source": [
    "let content = read(\"README.md\").unwrap();\n",
    "println!(\"{} bytes\", content.len());"
   ]
  },
  {
   "cell_type": "markdown",
   "id": "8a8509c4",
   "metadata": {
    "slideshow": {
     "slide_type": "subslide"
    }
   },
   "source": [
    "### Relaying errors"
   ]
  },
  {
   "cell_type": "code",
   "execution_count": 36,
   "id": "3ddd7b63",
   "metadata": {},
   "outputs": [],
   "source": [
    "use std::fs::{read, write};\n",
    "\n",
    "/// Copy at most 42 bytes from a file into another one,\n",
    "/// and return the number of characters copied\n",
    "fn copy_start(filename1: &str, filename2: &str) -> Result<usize, std::io::Error> {\n",
    "    let mut content = match read(filename1) {\n",
    "        Ok(c) => c,\n",
    "        Err(e) => return Err(e),\n",
    "    };\n",
    "    content.truncate(42);\n",
    "    match write(filename2, &content) {\n",
    "        Ok(_) => {},\n",
    "        Err(e) => return Err(e),\n",
    "    }\n",
    "    Ok(content.len())\n",
    "}"
   ]
  },
  {
   "cell_type": "markdown",
   "id": "e587fb3e",
   "metadata": {},
   "source": [
    "* pros: `Result`s force you to handle errors\n",
    "* cons: error handling in interleaved with the normal behaviour,\\\n",
    "  hurting readability"
   ]
  },
  {
   "cell_type": "markdown",
   "id": "d7dc37ff",
   "metadata": {
    "slideshow": {
     "slide_type": "subslide"
    }
   },
   "source": [
    "### Relaying errors the Rust way 🦀"
   ]
  },
  {
   "cell_type": "code",
   "execution_count": 37,
   "id": "e5d6983a",
   "metadata": {},
   "outputs": [],
   "source": [
    "use std::fs::{read, write};\n",
    "\n",
    "/// Copy at most 42 characters from a file into another one,\n",
    "/// and return the number of characters copied\n",
    "fn copy_start(filename1: &str, filename2: &str) -> Result<usize, std::io::Error> {\n",
    "    let mut content = read(filename1)?;\n",
    "    content.truncate(42);\n",
    "    write(filename2, &content)?;\n",
    "    Ok(content.len())\n",
    "}"
   ]
  },
  {
   "cell_type": "markdown",
   "id": "e01162b2",
   "metadata": {
    "slideshow": {
     "slide_type": "slide"
    }
   },
   "source": [
    "# Modules and visibility <a class=\"anchor\" id=\"modules\"></a>\n"
   ]
  },
  {
   "cell_type": "markdown",
   "id": "7c3b48bc",
   "metadata": {
    "slideshow": {
     "slide_type": "subslide"
    }
   },
   "source": [
    "## Hierarchichal structure of a program"
   ]
  },
  {
   "cell_type": "code",
   "execution_count": 38,
   "id": "ac4687c0",
   "metadata": {},
   "outputs": [],
   "source": [
    "fn main() {\n",
    "    /*...*/\n",
    "}\n",
    "\n",
    "mod foo {\n",
    "    fn f1() { /*...*/ }\n",
    "    \n",
    "    mod bar {\n",
    "        fn f2() { /*...*/ }\n",
    "    }\n",
    "}\n",
    "\n",
    "mod baz {\n",
    "    fn f3() { /*...*/ }\n",
    "}"
   ]
  },
  {
   "cell_type": "markdown",
   "id": "17485d97",
   "metadata": {
    "slideshow": {
     "slide_type": "subslide"
    }
   },
   "source": [
    "```rust\n",
    "////// main.rs               ////// foo.rs\n",
    "fn main() { /*..*/ }         fn f1() { /*...*/ }\n",
    "mod foo;                    mod bar;\n",
    "mod baz;\n",
    "\n",
    "//// baz.rs                 ///// foo/bar.rs\n",
    "fn f3() { /*...*/ }          fn f2() { /*...*/ }\n",
    "```"
   ]
  },
  {
   "cell_type": "markdown",
   "id": "125f18aa",
   "metadata": {
    "slideshow": {
     "slide_type": "subslide"
    }
   },
   "source": [
    "## Visibility\n",
    "\n",
    "The following elements :\n",
    "\n",
    "* functions and methods,\n",
    "* `struct` and `enum` types,\n",
    "* fields of `struct`s,\n",
    "* modules,\n",
    "\n",
    "are only visible in the module defining them (and its submodules) by default.\n",
    "\n",
    "Adding the `pub` (public) keyword before their declaration\\\n",
    "makes them visible from outside."
   ]
  },
  {
   "cell_type": "code",
   "execution_count": 39,
   "id": "aa3ab347",
   "metadata": {
    "slideshow": {
     "slide_type": "subslide"
    }
   },
   "outputs": [],
   "source": [
    "pub mod foo {\n",
    "    pub fn fn1(x: f64) -> f64 { x*fn2(x) }\n",
    "    fn fn2(x: f64) -> f64 { if x<0.0 { -x } else { x } }\n",
    "    \n",
    "    pub struct Foo {\n",
    "        pub f1: f64,\n",
    "        f2: f64,\n",
    "    }\n",
    "    impl Foo {\n",
    "        pub fn new(f1: f64, f2: f64) -> Foo { Foo{ f1, f2, } }\n",
    "        pub fn f2(&self) -> f64 { self.f2 }\n",
    "        pub fn prod(&self) -> f64 { self.f1*self.f2 }\n",
    "    }\n",
    "}"
   ]
  },
  {
   "cell_type": "code",
   "execution_count": 40,
   "id": "0989cba2",
   "metadata": {},
   "outputs": [
    {
     "ename": "Error",
     "evalue": "field `f2` of struct `foo::Foo` is private",
     "output_type": "error",
     "traceback": [
      "foo::fn1(x.f2 + x.prod())",
      "\u001b[91m           ^^\u001b[0m \u001b[94mprivate field\u001b[0m",
      "field `f2` of struct `foo::Foo` is private",
      "\u001b[1mhelp\u001b[0m: a method `f2` also exists, call it with parentheses\n\n()"
     ]
    }
   ],
   "source": [
    "let x = foo::Foo::new(-2.0, 1.0);\n",
    "foo::fn1(x.f2 + x.prod())"
   ]
  }
 ],
 "metadata": {
  "kernelspec": {
   "display_name": "Rust",
   "language": "rust",
   "name": "rust"
  },
  "language_info": {
   "codemirror_mode": "rust",
   "file_extension": ".rs",
   "mimetype": "text/rust",
   "name": "Rust",
   "pygment_lexer": "rust",
   "version": ""
  }
 },
 "nbformat": 4,
 "nbformat_minor": 5
}
