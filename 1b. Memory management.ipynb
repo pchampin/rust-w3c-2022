{
 "cells": [
  {
   "cell_type": "markdown",
   "metadata": {
    "slideshow": {
     "slide_type": "slide"
    }
   },
   "source": [
    "# Memory management in Rust 🦀🦀\n",
    "\n",
    "\n",
    "[Pierre-Antoine Champin](http://champin.net/)\n",
    "\n",
    "<a rel=\"license\" href=\"http://creativecommons.org/licenses/by-nc-sa/2.0/fr/\"><img alt=\"Contrat Creative Commons\" style=\"border-width:0\" src=\"http://i.creativecommons.org/l/by-nc-sa/2.0/fr/88x31.png\" /></a>"
   ]
  },
  {
   "cell_type": "markdown",
   "metadata": {
    "slideshow": {
     "slide_type": "slide"
    }
   },
   "source": [
    "## Background: the stack and the heap\n",
    "\n",
    "The stack\n",
    "\n",
    "- contains the data of variables,\n",
    "- whose size is known at compile-time (static),\n",
    "- managed in a *last in, first out* fashion by the compiler (in all languages).\n",
    "\n",
    "The heap\n",
    "\n",
    "- contains data whose size is known at runtime (dynamic),\n",
    "- allocated/freed in a less predictable manner,\n",
    "- managed differently depending on the language."
   ]
  },
  {
   "cell_type": "markdown",
   "metadata": {
    "heading_collapsed": true,
    "slideshow": {
     "slide_type": "subslide"
    }
   },
   "source": [
    "### Heap management\n",
    "\n",
    "In C\n",
    "- the developer is in charge of freeing memory,\n",
    "- which is error-prone (memory freed too soon, too late, never...).\n",
    "\n",
    "In Java\n",
    "- the garbage-collector is in charge of freeing memory,\n",
    "- which can lead to performance issues."
   ]
  },
  {
   "cell_type": "markdown",
   "metadata": {
    "slideshow": {
     "slide_type": "subslide"
    }
   },
   "source": [
    "### Heap management\n",
    "\n",
    "In Rust\n",
    "\n",
    "- the **compiler** is in charge of freeing memory.\n",
    "- The developer must provide enough information to make this possible,\n",
    "- which is achieved with the concepts of **ownership** and **borrowing**. 🦀🦀"
   ]
  },
  {
   "cell_type": "markdown",
   "metadata": {
    "slideshow": {
     "slide_type": "slide"
    }
   },
   "source": [
    "## Move semantics\n",
    "\n",
    "In most programming languages,\n",
    "assignment has *copy* semantics.\n",
    "\n",
    "```c\n",
    "v1 = init();\n",
    "v2 = v1;\n",
    "// v1 et v2 contain \"the same thing\"\n",
    "```\n",
    "\n",
    "In Rust, assignment has *move* semantics:\n",
    "\n",
    "* conceptually, data is *moved* from `v1` to `vZ`;\n",
    "* after assignment, `v1` is considered unitialized."
   ]
  },
  {
   "cell_type": "markdown",
   "metadata": {
    "slideshow": {
     "slide_type": "subslide"
    }
   },
   "source": [
    "### Example: the `Vec` type"
   ]
  },
  {
   "cell_type": "code",
   "execution_count": 2,
   "metadata": {
    "slideshow": {
     "slide_type": "-"
    }
   },
   "outputs": [],
   "source": [
    "let v1: Vec<i32> = vec![22, 44, 66];"
   ]
  },
  {
   "cell_type": "markdown",
   "metadata": {},
   "source": [
    "<div style=\"text-align: center\">\n",
    "<img alt=\"A Vec in memory\" src=\"images/trpl04-01.svg\" style=\"display: inline; width: 12em;\">\n",
    "</div>"
   ]
  },
  {
   "cell_type": "markdown",
   "metadata": {
    "slideshow": {
     "slide_type": "subslide"
    }
   },
   "source": [
    "### With the copy semantics (C)"
   ]
  },
  {
   "cell_type": "markdown",
   "metadata": {},
   "source": [
    "```c\n",
    "Vec v1 = init_vec();\n",
    "Vec v2 = v1;\n",
    "```"
   ]
  },
  {
   "cell_type": "markdown",
   "metadata": {},
   "source": [
    "<div style=\"text-align: center\"> <img alt=\"Shallow copy\" src=\"images/trpl04-02.svg\" style=\"display: inline; width: 12em;\"> </div>"
   ]
  },
  {
   "cell_type": "markdown",
   "metadata": {
    "slideshow": {
     "slide_type": "subslide"
    }
   },
   "source": [
    "### With the move semantics (Rust) 🦀"
   ]
  },
  {
   "cell_type": "code",
   "execution_count": 3,
   "metadata": {
    "slideshow": {
     "slide_type": "-"
    }
   },
   "outputs": [
    {
     "name": "stdout",
     "output_type": "stream",
     "text": [
      "v1=[22, 44, 66]\n",
      "v2=[22, 44, 66]\n"
     ]
    }
   ],
   "source": [
    "let v1: Vec<i32> = vec![22, 44, 66];\n",
    "println!(\"v1={:?}\", &v1);\n",
    "let v2 = v1;\n",
    "println!(\"v2={:?}\", &v2);\n",
    "//println!(\"v1={:?}\", &v1); // DOES NOT COMPILE"
   ]
  },
  {
   "cell_type": "markdown",
   "metadata": {},
   "source": [
    "<div style=\"text-align: center\">\n",
    "<img alt=\"After a move assignment\" src=\"images/trpl04-04.svg\" style=\"display: inline; width: 12em;\">\n",
    "</div>"
   ]
  },
  {
   "cell_type": "markdown",
   "metadata": {
    "slideshow": {
     "slide_type": "subslide"
    }
   },
   "source": [
    "### Explicit (deep) copy"
   ]
  },
  {
   "cell_type": "code",
   "execution_count": 4,
   "metadata": {
    "slideshow": {
     "slide_type": "-"
    }
   },
   "outputs": [
    {
     "name": "stdout",
     "output_type": "stream",
     "text": [
      "v1=[22, 44, 66] v2=[22, 44, 66]\n"
     ]
    }
   ],
   "source": [
    "let v1: Vec<i32> = vec![22, 44, 66];\n",
    "let v2 = v1.clone(); // explicit (deep) copy\n",
    "println!(\"v1={:?} v2={:?}\", &v1, &v2);"
   ]
  },
  {
   "cell_type": "markdown",
   "metadata": {},
   "source": [
    "<div style=\"text-align: center\">\n",
    "<img alt=\"After a deep copy\" src=\"images/trpl04-03.svg\" style=\"display: inline; width: 12em;\">\n",
    "</div>"
   ]
  },
  {
   "cell_type": "markdown",
   "metadata": {
    "slideshow": {
     "slide_type": "subslide"
    }
   },
   "source": [
    "### Implicit copy\n",
    "\n",
    "While the move semantics is the rule,\n",
    "there are exceptions.\n",
    "\n",
    "In particular, assignments of all base types (ints, floats, booleans...)\n",
    "have the copy semantics,\n",
    "because the compiler knows that this copy is *safe*."
   ]
  },
  {
   "cell_type": "code",
   "execution_count": 5,
   "metadata": {},
   "outputs": [
    {
     "name": "stdout",
     "output_type": "stream",
     "text": [
      "x=42 y=42\n"
     ]
    }
   ],
   "source": [
    "let x = 42;\n",
    "let y = x; // copy instead of move\n",
    "println!(\"x={} y={}\", x, y);"
   ]
  },
  {
   "cell_type": "markdown",
   "metadata": {
    "slideshow": {
     "slide_type": "fragment"
    }
   },
   "source": [
    "More generally,\n",
    "any type implementing the [`Copy` trait](https://doc.rust-lang.org/stable/std/marker/trait.Copy.html)\n",
    "uses the copy semantics for assignment.\n",
    "\n",
    "User-defined types can be made to implement the `Copy` trait,\n",
    "but this is not always possible or appropriate (e.g. the `Vec` type)."
   ]
  },
  {
   "cell_type": "markdown",
   "metadata": {
    "slideshow": {
     "slide_type": "slide"
    }
   },
   "source": [
    "## Ownership 🦀🦀\n",
    "\n",
    "* Any piece of data is **owned** by exactly one variable (or field in a structure).\n",
    "\n",
    "* Conceptually, assigning a variable to another one *moves* the data,\n",
    "  and **transfers** the ownership to the destination variable.\n",
    "  \n",
    "* When a variable is no longer used (e.g. when exiting its scope)\n",
    "  if it still owns some data, these data are **freed**."
   ]
  },
  {
   "cell_type": "markdown",
   "metadata": {},
   "source": [
    "<div style=\"text-align: center\">\n",
    "<img alt=\"A Vec in memory\" src=\"images/trpl04-01.svg\" style=\"display: inline; width: 12em;\">\n",
    "</div>"
   ]
  },
  {
   "cell_type": "code",
   "execution_count": 6,
   "metadata": {
    "slideshow": {
     "slide_type": "subslide"
    }
   },
   "outputs": [
    {
     "name": "stdout",
     "output_type": "stream",
     "text": [
      "v3=[1, 1, 2, 3, 5, 8, 13]\n",
      "the sum of the 7 first Fibonacci numbers is 33\n"
     ]
    }
   ],
   "source": [
    "fn fibo(nb: usize) -> Vec<i32> {\n",
    "    let mut v1 = vec![];        // 1. The Vec is created here\n",
    "    for i in 0..nb {\n",
    "        if i < 2 { v1.push(1); }\n",
    "        else     { v1.push(v1[i-2] + v1[i-1]); }\n",
    "    }\n",
    "    v1                          // 2. Its ownership is transfered to the caller\n",
    "}\n",
    "\n",
    "fn sum(v2: Vec<i32>) -> i32 {\n",
    "    v2.into_iter().sum()\n",
    "}                               // 5. We reach the end of `v2`'s scope;\n",
    "                                //    it still owns the Vec, so the Vec is freed\n",
    "\n",
    "{ \n",
    "    let n = 7;\n",
    "    let mut v3 = fibo(n);       // 3. The Vec created by `fibo` is moved in `v3`\n",
    "    println!(\"v3={:?}\", &v3);\n",
    "    let s = sum(v3);            // 4. The Vec is moved into `sum`\n",
    "    println!(\"the sum of the {} first Fibonacci numbers is {}\", n, s);\n",
    "    // println!(\"{:?}\", v3); // DOES NOT COMPILE\n",
    "};"
   ]
  },
  {
   "cell_type": "markdown",
   "metadata": {
    "slideshow": {
     "slide_type": "slide"
    }
   },
   "source": [
    "## Borrow 🦀🦀"
   ]
  },
  {
   "cell_type": "code",
   "execution_count": 7,
   "metadata": {},
   "outputs": [
    {
     "name": "stdout",
     "output_type": "stream",
     "text": [
      "v2=[22, 44, 66]\n",
      "v1=[22, 44, 66]\n"
     ]
    }
   ],
   "source": [
    "let v1: Vec<i32> = vec![22, 44, 66];\n",
    "{\n",
    "    let v2 = &v1;\n",
    "    println!(\"v2={:?}\", &v2);\n",
    "}\n",
    "println!(\"v1={:?}\", &v1);"
   ]
  },
  {
   "cell_type": "markdown",
   "metadata": {},
   "source": [
    "<div style=\"text-align: center\">\n",
    "<img alt=\"A reference is a non-owning pointer\" src=\"images/trpl04-05.svg\" style=\"display: inline; width: 16em;\">\n",
    "</div>"
   ]
  },
  {
   "cell_type": "markdown",
   "metadata": {
    "slideshow": {
     "slide_type": "subslide"
    }
   },
   "source": [
    "For every type `T`, variables of type `&T` are **references** to a `T`.\n",
    "\n",
    "* Physically, references are pointers.\n",
    "* Conceptually, references do *not own* the data they point to.\n",
    "* Freeing the reference does not lead to freeing the pointed data.\n",
    "* Several references to the same data can *co-exist*."
   ]
  },
  {
   "cell_type": "code",
   "execution_count": 8,
   "metadata": {},
   "outputs": [
    {
     "name": "stdout",
     "output_type": "stream",
     "text": [
      "v1=[22, 44, 66] v2=[22, 44, 66] v3=[22, 44, 66]\n",
      "v1=[22, 44, 66]\n"
     ]
    }
   ],
   "source": [
    "let mut v1: Vec<i32> = vec![22, 44, 66];\n",
    "{\n",
    "    let v2 = &v1;\n",
    "    let v3 = &v1;\n",
    "    println!(\"v1={:?} v2={:?} v3={:?}\", &v1, &v2, &v3);\n",
    "}\n",
    "println!(\"v1={:?}\", &v1);"
   ]
  },
  {
   "cell_type": "markdown",
   "metadata": {
    "slideshow": {
     "slide_type": "subslide"
    }
   },
   "source": [
    "NB : references of type `&T` are immutable."
   ]
  },
  {
   "cell_type": "code",
   "execution_count": 9,
   "metadata": {},
   "outputs": [
    {
     "name": "stdout",
     "output_type": "stream",
     "text": [
      "v2=[22, 44]\n",
      "v1=[22, 44, 88]\n"
     ]
    }
   ],
   "source": [
    "let mut v1: Vec<i32> = vec![22];\n",
    "v1.push(44);\n",
    "{\n",
    "    let v2 = &v1;\n",
    "    //v2.push(66); // DOES NOT COMPILE\n",
    "    println!(\"v2={:?}\", &v2);\n",
    "}\n",
    "v1.push(88);\n",
    "println!(\"v1={:?}\", &v1);"
   ]
  },
  {
   "cell_type": "markdown",
   "metadata": {
    "slideshow": {
     "slide_type": "subslide"
    }
   },
   "source": [
    "In order to make the previous example to work,\n",
    "we need a **mutable reference**,\n",
    "of type `&mut T`."
   ]
  },
  {
   "cell_type": "code",
   "execution_count": 10,
   "metadata": {
    "slideshow": {
     "slide_type": "-"
    }
   },
   "outputs": [
    {
     "name": "stdout",
     "output_type": "stream",
     "text": [
      "v2=[22, 44, 66]\n",
      "v1=[22, 44, 66, 88]\n"
     ]
    }
   ],
   "source": [
    "let mut v1: Vec<i32> = vec![22];\n",
    "v1.push(44);\n",
    "{\n",
    "    let v2 = &mut v1;\n",
    "    v2.push(66);\n",
    "    println!(\"v2={:?}\", &v2);\n",
    "}\n",
    "v1.push(88);\n",
    "println!(\"v1={:?}\", &v1);"
   ]
  },
  {
   "cell_type": "markdown",
   "metadata": {
    "slideshow": {
     "slide_type": "subslide"
    }
   },
   "source": [
    "### Golden rules for references"
   ]
  },
  {
   "cell_type": "markdown",
   "metadata": {},
   "source": [
    "We can not have at the same time\n",
    "\n",
    "* several mutable references, nor\n",
    "* one mutable reference and one (or several) immutable reference(s).\n",
    "\n",
    "because we need to avoid:\n",
    "\n",
    "* two parts of the code to modify the data simultaneously, and\n",
    "* one part of the code to read data that is being modified.\n",
    "\n",
    "This is checked by the **borrow checker** (a part of the compiler)."
   ]
  },
  {
   "cell_type": "code",
   "execution_count": 11,
   "metadata": {
    "slideshow": {
     "slide_type": "subslide"
    }
   },
   "outputs": [
    {
     "name": "stdout",
     "output_type": "stream",
     "text": [
      "v2=[22, 44]\n",
      "v1=[22, 44, 88]\n"
     ]
    }
   ],
   "source": [
    "let mut v1: Vec<i32> = vec![];\n",
    "v1.push(22);\n",
    "{\n",
    "    let v2 = &mut v1;\n",
    "    v2.push(44);\n",
    "    //v1.push(66);  // DOES NOT COMPILE\n",
    "    //let v3 = &v1; // DOES NOT CMPILE\n",
    "    println!(\"v2={:?}\", &v2);\n",
    "}\n",
    "v1.push(88);\n",
    "println!(\"v1={:?}\", &v1);"
   ]
  },
  {
   "cell_type": "markdown",
   "metadata": {
    "slideshow": {
     "slide_type": "subslide"
    }
   },
   "source": [
    "### References do not behave like pointers\n",
    "\n",
    "(even though internally, they are pointers)\n"
   ]
  },
  {
   "cell_type": "code",
   "execution_count": 12,
   "metadata": {},
   "outputs": [
    {
     "data": {
      "text/plain": [
       "true"
      ]
     },
     "execution_count": 12,
     "metadata": {},
     "output_type": "execute_result"
    }
   ],
   "source": [
    "let v = vec![42, 42];\n",
    "let test = (&v[0] == &v[1]);\n",
    "test"
   ]
  },
  {
   "cell_type": "markdown",
   "metadata": {},
   "source": [
    "* The \"value\" of a reference is **not** the memory address of the data, it is the data.\n",
    "\n",
    "  * Better think of `&T` as \"a `T` borrowed from someone else\" than as \"a pointer to `T`\".\n",
    "  * `T` and `&T` are still distinct types.\n",
    "  \n",
    "* In Rust, a reference can **never** be a null pointer. 🦀"
   ]
  },
  {
   "cell_type": "markdown",
   "metadata": {
    "slideshow": {
     "slide_type": "slide"
    }
   },
   "source": [
    "## How to chose the type of function parameters"
   ]
  },
  {
   "cell_type": "code",
   "execution_count": 13,
   "metadata": {},
   "outputs": [],
   "source": [
    "// my function only need to access the data: &T\n",
    "fn count_zeros(v: &Vec<i32>) -> usize {\n",
    "    let mut c = 0;\n",
    "    for i in v {\n",
    "        if *i == 0 {\n",
    "            c += 1;\n",
    "        }\n",
    "    }\n",
    "    c\n",
    "}\n",
    "// NB: this implementation is not idiomatic"
   ]
  },
  {
   "cell_type": "code",
   "execution_count": 14,
   "metadata": {},
   "outputs": [],
   "source": [
    "// my function needs to modify the data: &mut T\n",
    "fn add_one(v: &mut Vec<i32>) {\n",
    "    for i in v {\n",
    "        *i += 1;\n",
    "    }\n",
    "}"
   ]
  },
  {
   "cell_type": "code",
   "execution_count": 15,
   "metadata": {
    "slideshow": {
     "slide_type": "-"
    }
   },
   "outputs": [],
   "source": [
    "// my function \"consumes\" the data (rare) / the data is `Copy`: T\n",
    "fn fact(n: usize) -> usize {\n",
    "    if n <= 1 { 1 } else { n*fact(n-1) }\n",
    "}"
   ]
  },
  {
   "cell_type": "markdown",
   "metadata": {
    "slideshow": {
     "slide_type": "slide"
    }
   },
   "source": [
    "## Lifetime\n",
    "\n",
    "The borrow checker ensures that no borrowed data is needed for a longer time than the owner of the data.\n",
    "\n",
    "(because when the owner \"dies\", the data is freed).\n"
   ]
  },
  {
   "cell_type": "code",
   "execution_count": 16,
   "metadata": {},
   "outputs": [
    {
     "ename": "Error",
     "evalue": "`owner` does not live long enough",
     "output_type": "error",
     "traceback": [
      "        borrower.push(&owner);",
      "\u001b[91m                      ^^^^^^\u001b[0m \u001b[94mborrowed value does not live long enough\u001b[0m",
      "    }",
      "\u001b[91m    ^\u001b[0m \u001b[94m`owner` dropped here while still borrowed\u001b[0m",
      "    println!(\"{:?}\", &borrower);",
      "\u001b[91m                     ^^^^^^^^^\u001b[0m \u001b[94mborrow later used here\u001b[0m",
      "`owner` does not live long enough"
     ]
    }
   ],
   "source": [
    "// this code does not compile\n",
    "{\n",
    "    let mut borrower: Vec<&i32> = Vec::new();\n",
    "    {\n",
    "        let owner = 42;\n",
    "        borrower.push(&owner);\n",
    "        println!(\"{:?}\", &borrower);\n",
    "    }\n",
    "    // here, 'owner' does not exist anymore (out of scope)\n",
    "    println!(\"{:?}\", &borrower);\n",
    "}"
   ]
  },
  {
   "cell_type": "markdown",
   "metadata": {
    "slideshow": {
     "slide_type": "subslide"
    }
   },
   "source": [
    "In some situations, the compiler needs explicit hints about the respective lifetimes of different referenves\n",
    "(\"who lifes as long as who?\")."
   ]
  },
  {
   "cell_type": "code",
   "execution_count": 17,
   "metadata": {},
   "outputs": [
    {
     "ename": "Error",
     "evalue": "missing lifetime specifier",
     "output_type": "error",
     "traceback": [
      "fn borrow_concat(v1: &Vec<i32>, v2: &Vec<i32>) -> Vec<&i32> {",
      "\u001b[91m                     ^^^^^^^^^\u001b[0m \u001b[94m\u001b[0m",
      "fn borrow_concat(v1: &Vec<i32>, v2: &Vec<i32>) -> Vec<&i32> {",
      "\u001b[91m                                    ^^^^^^^^^\u001b[0m \u001b[94m\u001b[0m",
      "fn borrow_concat(v1: &Vec<i32>, v2: &Vec<i32>) -> Vec<&i32> {",
      "\u001b[91m                                                      ^\u001b[0m \u001b[94mexpected named lifetime parameter\u001b[0m",
      "missing lifetime specifier",
      "\u001b[1mhelp\u001b[0m: this function's return type contains a borrowed value, but the signature does not say whether it is borrowed from `v1` or `v2`",
      "\u001b[1mhelp\u001b[0m: consider introducing a named lifetime parameter\n\n<'a>"
     ]
    }
   ],
   "source": [
    "fn borrow_concat(v1: &Vec<i32>, v2: &Vec<i32>) -> Vec<&i32> {\n",
    "    let mut v3 = Vec::with_capacity(v1.len() + v2.len());\n",
    "    for i in 0..v1.len() {\n",
    "        v3.push(&v1[i]);\n",
    "    }\n",
    "    for i in 0..v2.len() {\n",
    "        v3.push(&v2[i]);\n",
    "    }\n",
    "    v3\n",
    "}\n",
    "// NB: this implementation is not idiomatic"
   ]
  },
  {
   "cell_type": "markdown",
   "metadata": {
    "slideshow": {
     "slide_type": "subslide"
    }
   },
   "source": [
    "Solution du problème précédent : on introduit des identifiants de *lifetime*.\n",
    "\n",
    "(En l'occurrence, un seul, arbitrairement nommé `'a`,\n",
    " pour indiquer que les trois types de références doivent vivre aussi longtemps les uns que les autres.)"
   ]
  },
  {
   "cell_type": "code",
   "execution_count": 18,
   "metadata": {},
   "outputs": [],
   "source": [
    "fn borrow_concat<'a>(v1: &'a Vec<i32>, v2: &'a Vec<i32>) -> Vec<&'a i32> {\n",
    "    // indicates that v1 and v2 must live as long as\n",
    "    // the elements of the returned Vec\n",
    "    let mut v3 = Vec::with_capacity(v1.len() + v2.len());\n",
    "    for i in 0..v1.len() {\n",
    "        v3.push(&v1[i]);\n",
    "    }\n",
    "    for i in 0..v2.len() {\n",
    "        v3.push(&v2[i]);\n",
    "    }\n",
    "    v3\n",
    "}\n",
    "// NB: this implementation is not idiomatic"
   ]
  },
  {
   "cell_type": "markdown",
   "metadata": {
    "slideshow": {
     "slide_type": "subslide"
    }
   },
   "source": [
    "Rust has a number of default rules for lifetimes,\n",
    "so that most of the time, it is not require to specify them.\n",
    "\n",
    "E.g. when there is only one input reference and one output reference,\n",
    "they are assume to have the same lifetime."
   ]
  },
  {
   "cell_type": "code",
   "execution_count": 19,
   "metadata": {},
   "outputs": [],
   "source": [
    "fn borrow_items(v1: &Vec<i32>) -> Vec<&i32> {\n",
    "// equivalent to\n",
    "// fn borrow_items<'a>(v1: &'a Vec<i32>) -> Vec<&'a i32> {\n",
    "    let mut v2 = Vec::with_capacity(v1.len());\n",
    "    for i in 0..v1.len() {\n",
    "        v2.push(&v1[i]);\n",
    "    }\n",
    "    v2\n",
    "}\n",
    "// NB: this implementation is not idiomatic"
   ]
  }
 ],
 "metadata": {
  "celltoolbar": "Slideshow",
  "kernelspec": {
   "display_name": "Rust",
   "language": "rust",
   "name": "rust"
  },
  "language_info": {
   "codemirror_mode": "rust",
   "file_extension": ".rs",
   "mimetype": "text/rust",
   "name": "Rust",
   "pygment_lexer": "rust",
   "version": ""
  }
 },
 "nbformat": 4,
 "nbformat_minor": 2
}
